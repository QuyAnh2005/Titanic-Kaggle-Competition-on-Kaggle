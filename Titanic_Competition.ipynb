{
 "cells": [
  {
   "cell_type": "code",
   "execution_count": 1,
   "metadata": {
    "id": "xt5hNQlWiyBU"
   },
   "outputs": [],
   "source": [
    "import numpy as np\n",
    "import pandas as pd\n",
    "import seaborn as sns\n",
    "from matplotlib import pyplot as plt\n",
    "import os"
   ]
  },
  {
   "cell_type": "code",
   "execution_count": 2,
   "metadata": {
    "colab": {
     "base_uri": "https://localhost:8080/",
     "height": 374
    },
    "id": "RYE0HPGNjEXp",
    "outputId": "a32b1708-1373-410e-af05-61e3f72103d4"
   },
   "outputs": [
    {
     "data": {
      "text/html": [
       "<div>\n",
       "<style scoped>\n",
       "    .dataframe tbody tr th:only-of-type {\n",
       "        vertical-align: middle;\n",
       "    }\n",
       "\n",
       "    .dataframe tbody tr th {\n",
       "        vertical-align: top;\n",
       "    }\n",
       "\n",
       "    .dataframe thead th {\n",
       "        text-align: right;\n",
       "    }\n",
       "</style>\n",
       "<table border=\"1\" class=\"dataframe\">\n",
       "  <thead>\n",
       "    <tr style=\"text-align: right;\">\n",
       "      <th></th>\n",
       "      <th>PassengerId</th>\n",
       "      <th>Survived</th>\n",
       "      <th>Pclass</th>\n",
       "      <th>Name</th>\n",
       "      <th>Sex</th>\n",
       "      <th>Age</th>\n",
       "      <th>SibSp</th>\n",
       "      <th>Parch</th>\n",
       "      <th>Ticket</th>\n",
       "      <th>Fare</th>\n",
       "      <th>Cabin</th>\n",
       "      <th>Embarked</th>\n",
       "    </tr>\n",
       "  </thead>\n",
       "  <tbody>\n",
       "    <tr>\n",
       "      <th>0</th>\n",
       "      <td>1</td>\n",
       "      <td>0</td>\n",
       "      <td>3</td>\n",
       "      <td>Braund, Mr. Owen Harris</td>\n",
       "      <td>male</td>\n",
       "      <td>22.0</td>\n",
       "      <td>1</td>\n",
       "      <td>0</td>\n",
       "      <td>A/5 21171</td>\n",
       "      <td>7.2500</td>\n",
       "      <td>NaN</td>\n",
       "      <td>S</td>\n",
       "    </tr>\n",
       "    <tr>\n",
       "      <th>1</th>\n",
       "      <td>2</td>\n",
       "      <td>1</td>\n",
       "      <td>1</td>\n",
       "      <td>Cumings, Mrs. John Bradley (Florence Briggs Th...</td>\n",
       "      <td>female</td>\n",
       "      <td>38.0</td>\n",
       "      <td>1</td>\n",
       "      <td>0</td>\n",
       "      <td>PC 17599</td>\n",
       "      <td>71.2833</td>\n",
       "      <td>C85</td>\n",
       "      <td>C</td>\n",
       "    </tr>\n",
       "    <tr>\n",
       "      <th>2</th>\n",
       "      <td>3</td>\n",
       "      <td>1</td>\n",
       "      <td>3</td>\n",
       "      <td>Heikkinen, Miss. Laina</td>\n",
       "      <td>female</td>\n",
       "      <td>26.0</td>\n",
       "      <td>0</td>\n",
       "      <td>0</td>\n",
       "      <td>STON/O2. 3101282</td>\n",
       "      <td>7.9250</td>\n",
       "      <td>NaN</td>\n",
       "      <td>S</td>\n",
       "    </tr>\n",
       "    <tr>\n",
       "      <th>3</th>\n",
       "      <td>4</td>\n",
       "      <td>1</td>\n",
       "      <td>1</td>\n",
       "      <td>Futrelle, Mrs. Jacques Heath (Lily May Peel)</td>\n",
       "      <td>female</td>\n",
       "      <td>35.0</td>\n",
       "      <td>1</td>\n",
       "      <td>0</td>\n",
       "      <td>113803</td>\n",
       "      <td>53.1000</td>\n",
       "      <td>C123</td>\n",
       "      <td>S</td>\n",
       "    </tr>\n",
       "    <tr>\n",
       "      <th>4</th>\n",
       "      <td>5</td>\n",
       "      <td>0</td>\n",
       "      <td>3</td>\n",
       "      <td>Allen, Mr. William Henry</td>\n",
       "      <td>male</td>\n",
       "      <td>35.0</td>\n",
       "      <td>0</td>\n",
       "      <td>0</td>\n",
       "      <td>373450</td>\n",
       "      <td>8.0500</td>\n",
       "      <td>NaN</td>\n",
       "      <td>S</td>\n",
       "    </tr>\n",
       "  </tbody>\n",
       "</table>\n",
       "</div>"
      ],
      "text/plain": [
       "   PassengerId  Survived  Pclass  \\\n",
       "0            1         0       3   \n",
       "1            2         1       1   \n",
       "2            3         1       3   \n",
       "3            4         1       1   \n",
       "4            5         0       3   \n",
       "\n",
       "                                                Name     Sex   Age  SibSp  \\\n",
       "0                            Braund, Mr. Owen Harris    male  22.0      1   \n",
       "1  Cumings, Mrs. John Bradley (Florence Briggs Th...  female  38.0      1   \n",
       "2                             Heikkinen, Miss. Laina  female  26.0      0   \n",
       "3       Futrelle, Mrs. Jacques Heath (Lily May Peel)  female  35.0      1   \n",
       "4                           Allen, Mr. William Henry    male  35.0      0   \n",
       "\n",
       "   Parch            Ticket     Fare Cabin Embarked  \n",
       "0      0         A/5 21171   7.2500   NaN        S  \n",
       "1      0          PC 17599  71.2833   C85        C  \n",
       "2      0  STON/O2. 3101282   7.9250   NaN        S  \n",
       "3      0            113803  53.1000  C123        S  \n",
       "4      0            373450   8.0500   NaN        S  "
      ]
     },
     "execution_count": 2,
     "metadata": {},
     "output_type": "execute_result"
    }
   ],
   "source": [
    "# Auto take path for data\n",
    "path = os.getcwd()\n",
    "\n",
    "train = pd.read_csv('train.csv')\n",
    "train.head()"
   ]
  },
  {
   "cell_type": "markdown",
   "metadata": {
    "id": "kPlHAgBLlIRJ"
   },
   "source": [
    "# **Explore Data Analysis**"
   ]
  },
  {
   "cell_type": "code",
   "execution_count": 3,
   "metadata": {
    "colab": {
     "base_uri": "https://localhost:8080/"
    },
    "id": "q7omy0HYlTPF",
    "outputId": "e4918e52-ed69-4817-82d2-79a8af7ef547"
   },
   "outputs": [
    {
     "data": {
      "text/plain": [
       "(891, 12)"
      ]
     },
     "execution_count": 3,
     "metadata": {},
     "output_type": "execute_result"
    }
   ],
   "source": [
    "train.shape"
   ]
  },
  {
   "cell_type": "code",
   "execution_count": 4,
   "metadata": {
    "colab": {
     "base_uri": "https://localhost:8080/"
    },
    "id": "b2wQL62FkXAA",
    "outputId": "fa8d9add-9630-42c6-bd6d-a7f4a967af69"
   },
   "outputs": [
    {
     "name": "stdout",
     "output_type": "stream",
     "text": [
      "<class 'pandas.core.frame.DataFrame'>\n",
      "RangeIndex: 891 entries, 0 to 890\n",
      "Data columns (total 12 columns):\n",
      " #   Column       Non-Null Count  Dtype  \n",
      "---  ------       --------------  -----  \n",
      " 0   PassengerId  891 non-null    int64  \n",
      " 1   Survived     891 non-null    int64  \n",
      " 2   Pclass       891 non-null    int64  \n",
      " 3   Name         891 non-null    object \n",
      " 4   Sex          891 non-null    object \n",
      " 5   Age          714 non-null    float64\n",
      " 6   SibSp        891 non-null    int64  \n",
      " 7   Parch        891 non-null    int64  \n",
      " 8   Ticket       891 non-null    object \n",
      " 9   Fare         891 non-null    float64\n",
      " 10  Cabin        204 non-null    object \n",
      " 11  Embarked     889 non-null    object \n",
      "dtypes: float64(2), int64(5), object(5)\n",
      "memory usage: 83.7+ KB\n"
     ]
    }
   ],
   "source": [
    "train.info()"
   ]
  },
  {
   "cell_type": "code",
   "execution_count": 5,
   "metadata": {
    "colab": {
     "base_uri": "https://localhost:8080/"
    },
    "id": "tS9-jYi4nzs3",
    "outputId": "22c9f7e5-ddb5-41db-fd01-01be635f7f5f"
   },
   "outputs": [
    {
     "data": {
      "text/plain": [
       "PassengerId      int64\n",
       "Survived         int64\n",
       "Pclass           int64\n",
       "Name            object\n",
       "Sex             object\n",
       "Age            float64\n",
       "SibSp            int64\n",
       "Parch            int64\n",
       "Ticket          object\n",
       "Fare           float64\n",
       "Cabin           object\n",
       "Embarked        object\n",
       "dtype: object"
      ]
     },
     "execution_count": 5,
     "metadata": {},
     "output_type": "execute_result"
    }
   ],
   "source": [
    "train.dtypes"
   ]
  },
  {
   "cell_type": "code",
   "execution_count": 6,
   "metadata": {
    "colab": {
     "base_uri": "https://localhost:8080/",
     "height": 421
    },
    "id": "DVcfgcdzn2RQ",
    "outputId": "35ecc315-0154-4ff6-f7e2-150488520239"
   },
   "outputs": [
    {
     "data": {
      "text/html": [
       "<div>\n",
       "<style scoped>\n",
       "    .dataframe tbody tr th:only-of-type {\n",
       "        vertical-align: middle;\n",
       "    }\n",
       "\n",
       "    .dataframe tbody tr th {\n",
       "        vertical-align: top;\n",
       "    }\n",
       "\n",
       "    .dataframe thead th {\n",
       "        text-align: right;\n",
       "    }\n",
       "</style>\n",
       "<table border=\"1\" class=\"dataframe\">\n",
       "  <thead>\n",
       "    <tr style=\"text-align: right;\">\n",
       "      <th></th>\n",
       "      <th>PercentageMissing</th>\n",
       "      <th>Nunique values</th>\n",
       "      <th>Dtype</th>\n",
       "    </tr>\n",
       "  </thead>\n",
       "  <tbody>\n",
       "    <tr>\n",
       "      <th>PassengerId</th>\n",
       "      <td>0.00</td>\n",
       "      <td>891</td>\n",
       "      <td>int64</td>\n",
       "    </tr>\n",
       "    <tr>\n",
       "      <th>Survived</th>\n",
       "      <td>0.00</td>\n",
       "      <td>2</td>\n",
       "      <td>int64</td>\n",
       "    </tr>\n",
       "    <tr>\n",
       "      <th>Pclass</th>\n",
       "      <td>0.00</td>\n",
       "      <td>3</td>\n",
       "      <td>int64</td>\n",
       "    </tr>\n",
       "    <tr>\n",
       "      <th>Name</th>\n",
       "      <td>0.00</td>\n",
       "      <td>891</td>\n",
       "      <td>object</td>\n",
       "    </tr>\n",
       "    <tr>\n",
       "      <th>Sex</th>\n",
       "      <td>0.00</td>\n",
       "      <td>2</td>\n",
       "      <td>object</td>\n",
       "    </tr>\n",
       "    <tr>\n",
       "      <th>Age</th>\n",
       "      <td>19.87</td>\n",
       "      <td>88</td>\n",
       "      <td>float64</td>\n",
       "    </tr>\n",
       "    <tr>\n",
       "      <th>SibSp</th>\n",
       "      <td>0.00</td>\n",
       "      <td>7</td>\n",
       "      <td>int64</td>\n",
       "    </tr>\n",
       "    <tr>\n",
       "      <th>Parch</th>\n",
       "      <td>0.00</td>\n",
       "      <td>7</td>\n",
       "      <td>int64</td>\n",
       "    </tr>\n",
       "    <tr>\n",
       "      <th>Ticket</th>\n",
       "      <td>0.00</td>\n",
       "      <td>681</td>\n",
       "      <td>object</td>\n",
       "    </tr>\n",
       "    <tr>\n",
       "      <th>Fare</th>\n",
       "      <td>0.00</td>\n",
       "      <td>248</td>\n",
       "      <td>float64</td>\n",
       "    </tr>\n",
       "    <tr>\n",
       "      <th>Cabin</th>\n",
       "      <td>77.10</td>\n",
       "      <td>147</td>\n",
       "      <td>object</td>\n",
       "    </tr>\n",
       "    <tr>\n",
       "      <th>Embarked</th>\n",
       "      <td>0.22</td>\n",
       "      <td>3</td>\n",
       "      <td>object</td>\n",
       "    </tr>\n",
       "  </tbody>\n",
       "</table>\n",
       "</div>"
      ],
      "text/plain": [
       "             PercentageMissing  Nunique values    Dtype\n",
       "PassengerId               0.00             891    int64\n",
       "Survived                  0.00               2    int64\n",
       "Pclass                    0.00               3    int64\n",
       "Name                      0.00             891   object\n",
       "Sex                       0.00               2   object\n",
       "Age                      19.87              88  float64\n",
       "SibSp                     0.00               7    int64\n",
       "Parch                     0.00               7    int64\n",
       "Ticket                    0.00             681   object\n",
       "Fare                      0.00             248  float64\n",
       "Cabin                    77.10             147   object\n",
       "Embarked                  0.22               3   object"
      ]
     },
     "execution_count": 6,
     "metadata": {},
     "output_type": "execute_result"
    }
   ],
   "source": [
    "def show_missing(data):\n",
    "  ''' This function is used to show percentage of missing data. '''\n",
    "  missing_values = data.isnull().sum()\n",
    "\n",
    "  percent_missing = missing_values / data.shape[0] * 100\n",
    "  percent_missing = percent_missing.round(2) \n",
    "\n",
    "  show_missing = pd.concat([percent_missing, data.nunique(), data.dtypes], keys=['PercentageMissing', 'Nunique values', 'Dtype'], axis = 1)\n",
    "\n",
    "  return show_missing\n",
    "\n",
    "show_missing(train)"
   ]
  },
  {
   "cell_type": "markdown",
   "metadata": {
    "id": "mADmFRDmw7BI"
   },
   "source": [
    "\n",
    "\n",
    "*   3/12 columns have missing values. Age - 19.87% and Cabin - 77.10%\n",
    "*    5/12 columns have object dtype converting\n",
    "\n"
   ]
  },
  {
   "cell_type": "markdown",
   "metadata": {
    "id": "AoLhjrvCwuGI"
   },
   "source": [
    "# Data Visualization"
   ]
  },
  {
   "cell_type": "code",
   "execution_count": 7,
   "metadata": {
    "colab": {
     "base_uri": "https://localhost:8080/",
     "height": 330
    },
    "id": "aijmpxXOpghS",
    "outputId": "64246eab-97d2-4d62-cb61-ebe12a8e1ed0"
   },
   "outputs": [
    {
     "name": "stdout",
     "output_type": "stream",
     "text": [
      "Survivor: 38.0 % \n",
      "Dead people: 62.0%\n"
     ]
    },
    {
     "data": {
      "text/plain": [
       "<AxesSubplot:xlabel='Survived', ylabel='count'>"
      ]
     },
     "execution_count": 7,
     "metadata": {},
     "output_type": "execute_result"
    },
    {
     "data": {
      "image/png": "[encoded data removed]",
      "text/plain": [
       "<Figure size 432x288 with 1 Axes>"
      ]
     },
     "metadata": {
      "needs_background": "light"
     },
     "output_type": "display_data"
    }
   ],
   "source": [
    "survivors = train[train['Survived'] == 1].shape[0]\n",
    "deads = train.shape[0] - survivors\n",
    "\n",
    "print(f'Survivor: {round(survivors / train.shape[0], 2) * 100} % \\nDead people: {round(deads / train.shape[0], 2) * 100}%')\n",
    "\n",
    "sns.countplot(data=train, x='Survived')"
   ]
  },
  {
   "cell_type": "markdown",
   "metadata": {
    "id": "eEGUMZVUyTwq"
   },
   "source": [
    "### Sex Column"
   ]
  },
  {
   "cell_type": "code",
   "execution_count": 8,
   "metadata": {
    "colab": {
     "base_uri": "https://localhost:8080/",
     "height": 296
    },
    "id": "55f7WNSZpjZF",
    "outputId": "1694060b-74b1-4fd4-8204-a0cb3e1d8962"
   },
   "outputs": [
    {
     "data": {
      "text/plain": [
       "<AxesSubplot:xlabel='Sex', ylabel='count'>"
      ]
     },
     "execution_count": 8,
     "metadata": {},
     "output_type": "execute_result"
    },
    {
     "data": {
      "image/png": "[encoded data removed]",
      "text/plain": [
       "<Figure size 432x288 with 1 Axes>"
      ]
     },
     "metadata": {
      "needs_background": "light"
     },
     "output_type": "display_data"
    }
   ],
   "source": [
    "sns.countplot(data=train, hue='Survived', x='Sex')"
   ]
  },
  {
   "cell_type": "markdown",
   "metadata": {
    "id": "fKY64flc83hr"
   },
   "source": [
    "\n",
    "\n",
    "*   Man have trending to not rescued\n",
    "\n",
    "\n"
   ]
  },
  {
   "cell_type": "markdown",
   "metadata": {
    "id": "1YDKrwzdyZ6U"
   },
   "source": [
    "### Pclass Column"
   ]
  },
  {
   "cell_type": "code",
   "execution_count": 9,
   "metadata": {
    "colab": {
     "base_uri": "https://localhost:8080/",
     "height": 173
    },
    "id": "wK2ws7Hy276F",
    "outputId": "d2caa5e9-84b3-4c99-8c05-87c39bb4aa3d"
   },
   "outputs": [
    {
     "data": {
      "text/html": [
       "<div>\n",
       "<style scoped>\n",
       "    .dataframe tbody tr th:only-of-type {\n",
       "        vertical-align: middle;\n",
       "    }\n",
       "\n",
       "    .dataframe tbody tr th {\n",
       "        vertical-align: top;\n",
       "    }\n",
       "\n",
       "    .dataframe thead th {\n",
       "        text-align: right;\n",
       "    }\n",
       "</style>\n",
       "<table border=\"1\" class=\"dataframe\">\n",
       "  <thead>\n",
       "    <tr style=\"text-align: right;\">\n",
       "      <th></th>\n",
       "      <th>Survived</th>\n",
       "    </tr>\n",
       "    <tr>\n",
       "      <th>Pclass</th>\n",
       "      <th></th>\n",
       "    </tr>\n",
       "  </thead>\n",
       "  <tbody>\n",
       "    <tr>\n",
       "      <th>1</th>\n",
       "      <td>0.629630</td>\n",
       "    </tr>\n",
       "    <tr>\n",
       "      <th>2</th>\n",
       "      <td>0.472826</td>\n",
       "    </tr>\n",
       "    <tr>\n",
       "      <th>3</th>\n",
       "      <td>0.242363</td>\n",
       "    </tr>\n",
       "  </tbody>\n",
       "</table>\n",
       "</div>"
      ],
      "text/plain": [
       "        Survived\n",
       "Pclass          \n",
       "1       0.629630\n",
       "2       0.472826\n",
       "3       0.242363"
      ]
     },
     "execution_count": 9,
     "metadata": {},
     "output_type": "execute_result"
    }
   ],
   "source": [
    "# Survivors rate by class\n",
    "train.groupby('Pclass')['Survived'].mean().to_frame()"
   ]
  },
  {
   "cell_type": "code",
   "execution_count": 10,
   "metadata": {
    "colab": {
     "base_uri": "https://localhost:8080/"
    },
    "id": "You1fEfbpriu",
    "outputId": "ed5007ff-9b01-4cef-80b9-9b96ec42ae38"
   },
   "outputs": [
    {
     "name": "stdout",
     "output_type": "stream",
     "text": [
      "3    491\n",
      "1    216\n",
      "2    184\n",
      "Name: Pclass, dtype: int64\n"
     ]
    }
   ],
   "source": [
    "print(train['Pclass'].value_counts())"
   ]
  },
  {
   "cell_type": "code",
   "execution_count": 11,
   "metadata": {
    "colab": {
     "base_uri": "https://localhost:8080/",
     "height": 421
    },
    "id": "tvL0UnEk6Rau",
    "outputId": "038da3fe-6ba1-429b-b362-7abd9f0b8adb"
   },
   "outputs": [
    {
     "data": {
      "text/plain": [
       "Text(0.5, 1.0, 'Survived or Dead by Pclass')"
      ]
     },
     "execution_count": 11,
     "metadata": {},
     "output_type": "execute_result"
    },
    {
     "data": {
      "image/png": "[encoded data removed]",
      "text/plain": [
       "<Figure size 864x432 with 2 Axes>"
      ]
     },
     "metadata": {
      "needs_background": "light"
     },
     "output_type": "display_data"
    }
   ],
   "source": [
    "fig, ax = plt.subplots(1, 2, figsize=(12, 6))\n",
    "sns.barplot(data=train, x='Pclass', y='Survived', palette=['green'], ci=None, ax=ax[0])\n",
    "ax[0].set_title('Survived Rate by Pclass')\n",
    "sns.countplot(data=train, x='Pclass', hue='Survived', palette=['red', 'blue'], ax=ax[1])\n",
    "ax[1].set_title('Survived or Dead by Pclass')"
   ]
  },
  {
   "cell_type": "markdown",
   "metadata": {
    "id": "91KcQteL8MBT"
   },
   "source": [
    "Pclass\n",
    "*   There were three classes on the ship and from the plot we see that the number of passengers in the third class was higher than the number of passengers in the first and second classes combined.\n",
    "*   However, the survival rate by class is not the same, more than 60% of first-class passengers and around half of the second class passengers were rescued, whereas 75% of third class passengers were not able to survive the disaster.\n",
    "*   For this reason, this is definitely an important aspect to consider.\n",
    "\n"
   ]
  },
  {
   "cell_type": "markdown",
   "metadata": {
    "id": "yUPegTQ3BsuY"
   },
   "source": [
    "### Pclass & Sex Columns"
   ]
  },
  {
   "cell_type": "code",
   "execution_count": 12,
   "metadata": {
    "colab": {
     "base_uri": "https://localhost:8080/",
     "height": 266
    },
    "id": "sN2puBGWByVa",
    "outputId": "0314cb02-cc4f-4e46-d080-7a1a50893bb8"
   },
   "outputs": [
    {
     "data": {
      "text/html": [
       "<div>\n",
       "<style scoped>\n",
       "    .dataframe tbody tr th:only-of-type {\n",
       "        vertical-align: middle;\n",
       "    }\n",
       "\n",
       "    .dataframe tbody tr th {\n",
       "        vertical-align: top;\n",
       "    }\n",
       "\n",
       "    .dataframe thead th {\n",
       "        text-align: right;\n",
       "    }\n",
       "</style>\n",
       "<table border=\"1\" class=\"dataframe\">\n",
       "  <thead>\n",
       "    <tr style=\"text-align: right;\">\n",
       "      <th></th>\n",
       "      <th></th>\n",
       "      <th>Survived</th>\n",
       "    </tr>\n",
       "    <tr>\n",
       "      <th>Pclass</th>\n",
       "      <th>Sex</th>\n",
       "      <th></th>\n",
       "    </tr>\n",
       "  </thead>\n",
       "  <tbody>\n",
       "    <tr>\n",
       "      <th rowspan=\"2\" valign=\"top\">1</th>\n",
       "      <th>female</th>\n",
       "      <td>0.968085</td>\n",
       "    </tr>\n",
       "    <tr>\n",
       "      <th>male</th>\n",
       "      <td>0.368852</td>\n",
       "    </tr>\n",
       "    <tr>\n",
       "      <th rowspan=\"2\" valign=\"top\">2</th>\n",
       "      <th>female</th>\n",
       "      <td>0.921053</td>\n",
       "    </tr>\n",
       "    <tr>\n",
       "      <th>male</th>\n",
       "      <td>0.157407</td>\n",
       "    </tr>\n",
       "    <tr>\n",
       "      <th rowspan=\"2\" valign=\"top\">3</th>\n",
       "      <th>female</th>\n",
       "      <td>0.500000</td>\n",
       "    </tr>\n",
       "    <tr>\n",
       "      <th>male</th>\n",
       "      <td>0.135447</td>\n",
       "    </tr>\n",
       "  </tbody>\n",
       "</table>\n",
       "</div>"
      ],
      "text/plain": [
       "               Survived\n",
       "Pclass Sex             \n",
       "1      female  0.968085\n",
       "       male    0.368852\n",
       "2      female  0.921053\n",
       "       male    0.157407\n",
       "3      female  0.500000\n",
       "       male    0.135447"
      ]
     },
     "execution_count": 12,
     "metadata": {},
     "output_type": "execute_result"
    }
   ],
   "source": [
    "train.groupby(['Pclass', 'Sex']).Survived.mean().to_frame()"
   ]
  },
  {
   "cell_type": "code",
   "execution_count": 13,
   "metadata": {
    "colab": {
     "base_uri": "https://localhost:8080/",
     "height": 312
    },
    "id": "oKSpHue9B3Qv",
    "outputId": "58488bb6-4253-40da-987b-1a6e507aadeb"
   },
   "outputs": [
    {
     "data": {
      "text/plain": [
       "Text(0.5, 1.0, 'Survival rate by Pclass and Sex')"
      ]
     },
     "execution_count": 13,
     "metadata": {},
     "output_type": "execute_result"
    },
    {
     "data": {
      "image/png": "[encoded data removed]",
      "text/plain": [
       "<Figure size 432x288 with 1 Axes>"
      ]
     },
     "metadata": {
      "needs_background": "light"
     },
     "output_type": "display_data"
    }
   ],
   "source": [
    "sns.barplot(data=train, x='Pclass', y='Survived', hue='Sex', palette=['red', 'blue'], ci=None)\n",
    "plt.title('Survival rate by Pclass and Sex')"
   ]
  },
  {
   "cell_type": "markdown",
   "metadata": {
    "id": "GSPVJWcfCbYO"
   },
   "source": [
    "\n",
    "\n",
    "*  We can also see the survival rate by Sex and Pclass, which is quite impressive. First class and second class women who were rescued were respectively 97% and 92%, while the percentage drops to 50% for third-class women.\n",
    "*  Despite that, this is still more than the 37% survival rate for first-class men.\n",
    "\n"
   ]
  },
  {
   "cell_type": "markdown",
   "metadata": {
    "id": "n7-KYYn0CykQ"
   },
   "source": [
    "### Age Column"
   ]
  },
  {
   "cell_type": "code",
   "execution_count": 14,
   "metadata": {
    "colab": {
     "base_uri": "https://localhost:8080/"
    },
    "id": "oomPxIMXC5Pt",
    "outputId": "4761e66f-650d-4f3f-fae7-81634652b48f"
   },
   "outputs": [
    {
     "data": {
      "text/plain": [
       "24.0    30\n",
       "22.0    27\n",
       "18.0    26\n",
       "28.0    25\n",
       "19.0    25\n",
       "30.0    25\n",
       "21.0    24\n",
       "25.0    23\n",
       "36.0    22\n",
       "29.0    20\n",
       "Name: Age, dtype: int64"
      ]
     },
     "execution_count": 14,
     "metadata": {},
     "output_type": "execute_result"
    }
   ],
   "source": [
    "train['Age'].value_counts().head(10)"
   ]
  },
  {
   "cell_type": "code",
   "execution_count": 15,
   "metadata": {
    "colab": {
     "base_uri": "https://localhost:8080/",
     "height": 475
    },
    "id": "6Z16XiKqEvTL",
    "outputId": "a25bbdb7-acac-4e53-f628-21aff946bb84"
   },
   "outputs": [
    {
     "name": "stderr",
     "output_type": "stream",
     "text": [
      "/home/quyanh/.local/lib/python3.8/site-packages/seaborn/distributions.py:2557: FutureWarning: `distplot` is a deprecated function and will be removed in a future version. Please adapt your code to use either `displot` (a figure-level function with similar flexibility) or `histplot` (an axes-level function for histograms).\n",
      "  warnings.warn(msg, FutureWarning)\n"
     ]
    },
    {
     "data": {
      "text/plain": [
       "<AxesSubplot:title={'center':'Age distribution for the two subpopulations'}, xlabel='Age', ylabel='Density'>"
      ]
     },
     "execution_count": 15,
     "metadata": {},
     "output_type": "execute_result"
    },
    {
     "data": {
      "image/png": "[encoded data removed]",
      "text/plain": [
       "<Figure size 864x432 with 2 Axes>"
      ]
     },
     "metadata": {
      "needs_background": "light"
     },
     "output_type": "display_data"
    }
   ],
   "source": [
    "fig, ax = plt.subplots(1, 2, figsize=(12, 6))\n",
    "\n",
    "sns.distplot(x=train['Age'], bins=40, kde=True, ax=ax[0], color='g')\n",
    "ax[0].set_title('Age Distribution')\n",
    "\n",
    "ax[1].set_title('Age distribution for the two subpopulations')\n",
    "sns.kdeplot(train['Age'].loc[train['Survived'] == 1], color='green', ax=ax[1], shade=True, label='Survived')\n",
    "sns.kdeplot(train['Age'].loc[train['Survived'] == 0], color='red', ax=ax[1], shade=True, label='Not Survived')\n",
    "# ax[1].set_legends()"
   ]
  },
  {
   "cell_type": "markdown",
   "metadata": {
    "id": "zN5KPGVxIquW"
   },
   "source": [
    "### Age & Sex Columns"
   ]
  },
  {
   "cell_type": "code",
   "execution_count": 16,
   "metadata": {
    "colab": {
     "base_uri": "https://localhost:8080/",
     "height": 421
    },
    "id": "Ybl-pYqIIwBh",
    "outputId": "bc13ce6a-b5aa-4737-cfd2-386abcb3a844"
   },
   "outputs": [
    {
     "data": {
      "text/plain": [
       "Text(0.5, 1.0, 'Survived by age and sex')"
      ]
     },
     "execution_count": 16,
     "metadata": {},
     "output_type": "execute_result"
    },
    {
     "data": {
      "image/png": "[encoded data removed]",
      "text/plain": [
       "<Figure size 720x432 with 1 Axes>"
      ]
     },
     "metadata": {
      "needs_background": "light"
     },
     "output_type": "display_data"
    }
   ],
   "source": [
    "plt.figure(figsize=(10, 6))\n",
    "sns.swarmplot(y='Sex', x='Age', hue='Survived', palette=('#C52219', '#23C552'), data=train)\n",
    "plt.title('Survived by age and sex')"
   ]
  },
  {
   "cell_type": "markdown",
   "metadata": {
    "id": "lubtSiDYPx6w"
   },
   "source": [
    "* At a first look, the relationship between Age and Survived appears not to be very clear, we notice for sure that there is a peak corresponding to young passengers for those who survived, but apart from that the rest is not very informative.\n",
    "* We can appreciate this feature more if we consider Sex too: now it is clearer that a good number of male survivors had less than 12 years, while the female group has no particular properties."
   ]
  },
  {
   "cell_type": "markdown",
   "metadata": {
    "id": "tMnKwi3zQJRD"
   },
   "source": [
    "### Fare Column"
   ]
  },
  {
   "cell_type": "code",
   "execution_count": 17,
   "metadata": {
    "colab": {
     "base_uri": "https://localhost:8080/"
    },
    "id": "GsNJaJKbRmgG",
    "outputId": "ba0b4028-989d-4887-c8ba-b04589c3b337"
   },
   "outputs": [
    {
     "data": {
      "text/plain": [
       "8.0500     43\n",
       "13.0000    42\n",
       "7.8958     38\n",
       "7.7500     34\n",
       "26.0000    31\n",
       "           ..\n",
       "50.4958     1\n",
       "13.8583     1\n",
       "8.4583      1\n",
       "7.7250      1\n",
       "7.5208      1\n",
       "Name: Fare, Length: 248, dtype: int64"
      ]
     },
     "execution_count": 17,
     "metadata": {},
     "output_type": "execute_result"
    }
   ],
   "source": [
    "train['Fare'].value_counts()"
   ]
  },
  {
   "cell_type": "code",
   "execution_count": 18,
   "metadata": {
    "colab": {
     "base_uri": "https://localhost:8080/",
     "height": 475
    },
    "id": "rt0zVLoUQIgh",
    "outputId": "d6a1fed8-b4d0-47ce-c7c9-277bbf09c994"
   },
   "outputs": [
    {
     "name": "stderr",
     "output_type": "stream",
     "text": [
      "/home/quyanh/.local/lib/python3.8/site-packages/seaborn/distributions.py:2557: FutureWarning: `distplot` is a deprecated function and will be removed in a future version. Please adapt your code to use either `displot` (a figure-level function with similar flexibility) or `histplot` (an axes-level function for histograms).\n",
      "  warnings.warn(msg, FutureWarning)\n"
     ]
    },
    {
     "data": {
      "text/plain": [
       "Text(0, 0.5, 'Survival rate')"
      ]
     },
     "execution_count": 18,
     "metadata": {},
     "output_type": "execute_result"
    },
    {
     "data": {
      "image/png": "[encoded data removed]",
      "text/plain": [
       "<Figure size 864x432 with 2 Axes>"
      ]
     },
     "metadata": {
      "needs_background": "light"
     },
     "output_type": "display_data"
    }
   ],
   "source": [
    "fig, ax = plt.subplots(1,2,figsize=(12,6))\n",
    "\n",
    "sns.distplot(train.Fare, color='g', ax=ax[0])\n",
    "ax[0].set_title('Fare distribution')\n",
    "\n",
    "fare_range = pd.qcut(train.Fare, 4, labels = ['Low', 'Mid', 'High', 'Very high'])\n",
    "sns.barplot(x=fare_range, y=train.Survived, palette='mako', ci=None, ax=ax[1])\n",
    "ax[1].set_ylabel('Survival rate')"
   ]
  },
  {
   "cell_type": "markdown",
   "metadata": {
    "id": "MFNs28tdTUjB"
   },
   "source": [
    "### Fare & Sex"
   ]
  },
  {
   "cell_type": "code",
   "execution_count": 19,
   "metadata": {
    "colab": {
     "base_uri": "https://localhost:8080/",
     "height": 400
    },
    "id": "utFN4ZmQTWvr",
    "outputId": "148c7d28-2664-4b16-bb9c-a7a10a2984c1"
   },
   "outputs": [
    {
     "name": "stderr",
     "output_type": "stream",
     "text": [
      "/home/quyanh/.local/lib/python3.8/site-packages/seaborn/categorical.py:1296: UserWarning: 71.1% of the points cannot be placed; you may want to decrease the size of the markers or use stripplot.\n",
      "  warnings.warn(msg, UserWarning)\n",
      "/home/quyanh/.local/lib/python3.8/site-packages/seaborn/categorical.py:1296: UserWarning: 48.4% of the points cannot be placed; you may want to decrease the size of the markers or use stripplot.\n",
      "  warnings.warn(msg, UserWarning)\n"
     ]
    },
    {
     "data": {
      "text/plain": [
       "Text(0.5, 1.0, 'Survived by fare and sex')"
      ]
     },
     "execution_count": 19,
     "metadata": {},
     "output_type": "execute_result"
    },
    {
     "data": {
      "image/png": "[encoded data removed]",
      "text/plain": [
       "<Figure size 432x288 with 1 Axes>"
      ]
     },
     "metadata": {
      "needs_background": "light"
     },
     "output_type": "display_data"
    }
   ],
   "source": [
    "sns.swarmplot(x='Sex', y='Fare', hue='Survived', palette=('#C52219', '#23C552'), data=train)\n",
    "plt.title('Survived by fare and sex')"
   ]
  },
  {
   "cell_type": "markdown",
   "metadata": {
    "id": "IW3S1h3_TyUD"
   },
   "source": [
    "* Looking at the more detailed plot, we also see for example that all males with fare between 200 and 300 died.\n",
    "* For this reason, we can left the Fare feature as it is in order to prevent losing too much information; at deeper levels of a tree, a more discriminant relationship might open up and it could become a good group detector."
   ]
  },
  {
   "cell_type": "markdown",
   "metadata": {
    "id": "nU4auc9p_Vz8"
   },
   "source": [
    "### SibSp and Parch Columns"
   ]
  },
  {
   "cell_type": "code",
   "execution_count": 20,
   "metadata": {
    "colab": {
     "base_uri": "https://localhost:8080/",
     "height": 466
    },
    "id": "ZeHcC4riZnqc",
    "outputId": "876e05ea-423b-4b90-8a00-1f7c5d5cd642"
   },
   "outputs": [
    {
     "name": "stdout",
     "output_type": "stream",
     "text": [
      "1     537\n",
      "2     161\n",
      "3     102\n",
      "4      29\n",
      "6      22\n",
      "5      15\n",
      "7      12\n",
      "11      7\n",
      "8       6\n",
      "Name: Nmember, dtype: int64\n"
     ]
    },
    {
     "data": {
      "text/plain": [
       "<AxesSubplot:xlabel='Nmember', ylabel='count'>"
      ]
     },
     "execution_count": 20,
     "metadata": {},
     "output_type": "execute_result"
    },
    {
     "data": {
      "image/png": "[encoded data removed]",
      "text/plain": [
       "<Figure size 432x288 with 1 Axes>"
      ]
     },
     "metadata": {
      "needs_background": "light"
     },
     "output_type": "display_data"
    }
   ],
   "source": [
    "# Create new feature with +1 is by passenger's self\n",
    "train['Nmember'] = train['SibSp'] + train['Parch'] + 1\n",
    "print(train['Nmember'].value_counts())\n",
    "\n",
    "sns.countplot(data=train, x='Nmember', hue='Survived', palette=['red', 'blue'])"
   ]
  },
  {
   "cell_type": "markdown",
   "metadata": {
    "id": "78g9TT-biw3-"
   },
   "source": [
    "### Ticket Column"
   ]
  },
  {
   "cell_type": "code",
   "execution_count": 21,
   "metadata": {
    "colab": {
     "base_uri": "https://localhost:8080/"
    },
    "id": "Ue6L797RjeNh",
    "outputId": "47b4dca7-a251-4cf4-9637-b0814be732c8"
   },
   "outputs": [
    {
     "data": {
      "text/plain": [
       "CA. 2343        7\n",
       "347082          7\n",
       "1601            7\n",
       "347088          6\n",
       "CA 2144         6\n",
       "3101295         6\n",
       "382652          5\n",
       "S.O.C. 14879    5\n",
       "PC 17757        4\n",
       "LINE            4\n",
       "Name: Ticket, dtype: int64"
      ]
     },
     "execution_count": 21,
     "metadata": {},
     "output_type": "execute_result"
    }
   ],
   "source": [
    "train['Ticket'].value_counts().head(10)"
   ]
  },
  {
   "cell_type": "code",
   "execution_count": 22,
   "metadata": {
    "colab": {
     "base_uri": "https://localhost:8080/"
    },
    "id": "ZrY3bNhpkDWM",
    "outputId": "5978fbb8-b125-4ef0-f242-8bad96797fb3"
   },
   "outputs": [
    {
     "data": {
      "text/plain": [
       "6     419\n",
       "5     131\n",
       "4     101\n",
       "8      76\n",
       "10     41\n",
       "7      27\n",
       "9      26\n",
       "17     14\n",
       "16     11\n",
       "12     10\n",
       "13     10\n",
       "15      9\n",
       "11      8\n",
       "18      6\n",
       "3       2\n",
       "Name: Ticket_len, dtype: int64"
      ]
     },
     "execution_count": 22,
     "metadata": {},
     "output_type": "execute_result"
    }
   ],
   "source": [
    "# Calculate length of ticket\n",
    "train['Ticket_len'] = train.Ticket.apply(lambda x: len(x))\n",
    "train['Ticket_len'].value_counts()"
   ]
  },
  {
   "cell_type": "markdown",
   "metadata": {
    "id": "usBaYObllCmE"
   },
   "source": [
    "### Cabin Column"
   ]
  },
  {
   "cell_type": "code",
   "execution_count": 23,
   "metadata": {
    "colab": {
     "base_uri": "https://localhost:8080/",
     "height": 534
    },
    "id": "ptn4RiukaDqM",
    "outputId": "3439475d-bea1-4b47-a1b5-8ccfecacadc5"
   },
   "outputs": [
    {
     "name": "stdout",
     "output_type": "stream",
     "text": [
      "[nan 'C85' 'C123' 'E46' 'G6' 'C103' 'D56' 'A6' 'C23 C25 C27' 'B78' 'D33'\n",
      " 'B30' 'C52' 'B28' 'C83' 'F33' 'F G73' 'E31' 'A5' 'D10 D12' 'D26' 'C110'\n",
      " 'B58 B60' 'E101' 'F E69' 'D47' 'B86' 'F2' 'C2' 'E33' 'B19' 'A7' 'C49'\n",
      " 'F4' 'A32' 'B4' 'B80' 'A31' 'D36' 'D15' 'C93' 'C78' 'D35' 'C87' 'B77'\n",
      " 'E67' 'B94' 'C125' 'C99' 'C118' 'D7' 'A19' 'B49' 'D' 'C22 C26' 'C106'\n",
      " 'C65' 'E36' 'C54' 'B57 B59 B63 B66' 'C7' 'E34' 'C32' 'B18' 'C124' 'C91'\n",
      " 'E40' 'T' 'C128' 'D37' 'B35' 'E50' 'C82' 'B96 B98' 'E10' 'E44' 'A34'\n",
      " 'C104' 'C111' 'C92' 'E38' 'D21' 'E12' 'E63' 'A14' 'B37' 'C30' 'D20' 'B79'\n",
      " 'E25' 'D46' 'B73' 'C95' 'B38' 'B39' 'B22' 'C86' 'C70' 'A16' 'C101' 'C68'\n",
      " 'A10' 'E68' 'B41' 'A20' 'D19' 'D50' 'D9' 'A23' 'B50' 'A26' 'D48' 'E58'\n",
      " 'C126' 'B71' 'B51 B53 B55' 'D49' 'B5' 'B20' 'F G63' 'C62 C64' 'E24' 'C90'\n",
      " 'C45' 'E8' 'B101' 'D45' 'C46' 'D30' 'E121' 'D11' 'E77' 'F38' 'B3' 'D6'\n",
      " 'B82 B84' 'D17' 'A36' 'B102' 'B69' 'E49' 'C47' 'D28' 'E17' 'A24' 'C50'\n",
      " 'B42' 'C148']\n"
     ]
    },
    {
     "data": {
      "text/plain": [
       "<AxesSubplot:xlabel='Cabin', ylabel='count'>"
      ]
     },
     "execution_count": 23,
     "metadata": {},
     "output_type": "execute_result"
    },
    {
     "data": {
      "image/png": "[encoded data removed]",
      "text/plain": [
       "<Figure size 432x288 with 1 Axes>"
      ]
     },
     "metadata": {
      "needs_background": "light"
     },
     "output_type": "display_data"
    }
   ],
   "source": [
    "print(train['Cabin'].unique())\n",
    "\n",
    "# Extrac to carbin models\n",
    "train['Cabin'] = train['Cabin'].str.get(0)\n",
    "\n",
    "sns.countplot(data=train, x='Cabin', hue='Survived')"
   ]
  },
  {
   "cell_type": "code",
   "execution_count": 24,
   "metadata": {
    "colab": {
     "base_uri": "https://localhost:8080/"
    },
    "id": "aL_s972N_9OQ",
    "outputId": "14d8010c-13c7-4aaf-8134-8e841206760d"
   },
   "outputs": [
    {
     "data": {
      "text/plain": [
       "C    59\n",
       "B    47\n",
       "D    33\n",
       "E    32\n",
       "A    15\n",
       "F    13\n",
       "G     4\n",
       "T     1\n",
       "Name: Cabin, dtype: int64"
      ]
     },
     "execution_count": 24,
     "metadata": {},
     "output_type": "execute_result"
    }
   ],
   "source": [
    "train['Cabin'].value_counts()"
   ]
  },
  {
   "cell_type": "code",
   "execution_count": 25,
   "metadata": {
    "colab": {
     "base_uri": "https://localhost:8080/",
     "height": 364
    },
    "id": "_PnEcMcRiH9J",
    "outputId": "b98fa7ef-f84c-4322-97f1-e0da0c0530e5"
   },
   "outputs": [
    {
     "name": "stdout",
     "output_type": "stream",
     "text": [
      "S    644\n",
      "C    168\n",
      "Q     77\n",
      "Name: Embarked, dtype: int64\n"
     ]
    },
    {
     "data": {
      "text/plain": [
       "<AxesSubplot:xlabel='Embarked', ylabel='count'>"
      ]
     },
     "execution_count": 25,
     "metadata": {},
     "output_type": "execute_result"
    },
    {
     "data": {
      "image/png": "[encoded data removed]",
      "text/plain": [
       "<Figure size 432x288 with 1 Axes>"
      ]
     },
     "metadata": {
      "needs_background": "light"
     },
     "output_type": "display_data"
    }
   ],
   "source": [
    "print(train['Embarked'].value_counts())\n",
    "sns.countplot(data=train, x='Embarked', hue='Survived')"
   ]
  },
  {
   "cell_type": "markdown",
   "metadata": {
    "id": "ybT6Eyj89FNe"
   },
   "source": [
    "# Data Processing"
   ]
  },
  {
   "cell_type": "code",
   "execution_count": 26,
   "metadata": {
    "colab": {
     "base_uri": "https://localhost:8080/",
     "height": 204
    },
    "id": "DSfWMBfJ9JNL",
    "outputId": "5c4f9622-0b98-48d1-90ef-d82aeb890bf3"
   },
   "outputs": [
    {
     "data": {
      "text/html": [
       "<div>\n",
       "<style scoped>\n",
       "    .dataframe tbody tr th:only-of-type {\n",
       "        vertical-align: middle;\n",
       "    }\n",
       "\n",
       "    .dataframe tbody tr th {\n",
       "        vertical-align: top;\n",
       "    }\n",
       "\n",
       "    .dataframe thead th {\n",
       "        text-align: right;\n",
       "    }\n",
       "</style>\n",
       "<table border=\"1\" class=\"dataframe\">\n",
       "  <thead>\n",
       "    <tr style=\"text-align: right;\">\n",
       "      <th></th>\n",
       "      <th>PassengerId</th>\n",
       "      <th>Survived</th>\n",
       "      <th>Pclass</th>\n",
       "      <th>Name</th>\n",
       "      <th>Sex</th>\n",
       "      <th>Age</th>\n",
       "      <th>Ticket</th>\n",
       "      <th>Fare</th>\n",
       "      <th>Cabin</th>\n",
       "      <th>Embarked</th>\n",
       "      <th>Nmember</th>\n",
       "      <th>Ticket_len</th>\n",
       "    </tr>\n",
       "  </thead>\n",
       "  <tbody>\n",
       "    <tr>\n",
       "      <th>0</th>\n",
       "      <td>1</td>\n",
       "      <td>0</td>\n",
       "      <td>3</td>\n",
       "      <td>Braund, Mr. Owen Harris</td>\n",
       "      <td>male</td>\n",
       "      <td>22.0</td>\n",
       "      <td>A/5 21171</td>\n",
       "      <td>7.2500</td>\n",
       "      <td>NaN</td>\n",
       "      <td>S</td>\n",
       "      <td>2</td>\n",
       "      <td>9</td>\n",
       "    </tr>\n",
       "    <tr>\n",
       "      <th>1</th>\n",
       "      <td>2</td>\n",
       "      <td>1</td>\n",
       "      <td>1</td>\n",
       "      <td>Cumings, Mrs. John Bradley (Florence Briggs Th...</td>\n",
       "      <td>female</td>\n",
       "      <td>38.0</td>\n",
       "      <td>PC 17599</td>\n",
       "      <td>71.2833</td>\n",
       "      <td>C</td>\n",
       "      <td>C</td>\n",
       "      <td>2</td>\n",
       "      <td>8</td>\n",
       "    </tr>\n",
       "    <tr>\n",
       "      <th>2</th>\n",
       "      <td>3</td>\n",
       "      <td>1</td>\n",
       "      <td>3</td>\n",
       "      <td>Heikkinen, Miss. Laina</td>\n",
       "      <td>female</td>\n",
       "      <td>26.0</td>\n",
       "      <td>STON/O2. 3101282</td>\n",
       "      <td>7.9250</td>\n",
       "      <td>NaN</td>\n",
       "      <td>S</td>\n",
       "      <td>1</td>\n",
       "      <td>16</td>\n",
       "    </tr>\n",
       "    <tr>\n",
       "      <th>3</th>\n",
       "      <td>4</td>\n",
       "      <td>1</td>\n",
       "      <td>1</td>\n",
       "      <td>Futrelle, Mrs. Jacques Heath (Lily May Peel)</td>\n",
       "      <td>female</td>\n",
       "      <td>35.0</td>\n",
       "      <td>113803</td>\n",
       "      <td>53.1000</td>\n",
       "      <td>C</td>\n",
       "      <td>S</td>\n",
       "      <td>2</td>\n",
       "      <td>6</td>\n",
       "    </tr>\n",
       "    <tr>\n",
       "      <th>4</th>\n",
       "      <td>5</td>\n",
       "      <td>0</td>\n",
       "      <td>3</td>\n",
       "      <td>Allen, Mr. William Henry</td>\n",
       "      <td>male</td>\n",
       "      <td>35.0</td>\n",
       "      <td>373450</td>\n",
       "      <td>8.0500</td>\n",
       "      <td>NaN</td>\n",
       "      <td>S</td>\n",
       "      <td>1</td>\n",
       "      <td>6</td>\n",
       "    </tr>\n",
       "  </tbody>\n",
       "</table>\n",
       "</div>"
      ],
      "text/plain": [
       "   PassengerId  Survived  Pclass  \\\n",
       "0            1         0       3   \n",
       "1            2         1       1   \n",
       "2            3         1       3   \n",
       "3            4         1       1   \n",
       "4            5         0       3   \n",
       "\n",
       "                                                Name     Sex   Age  \\\n",
       "0                            Braund, Mr. Owen Harris    male  22.0   \n",
       "1  Cumings, Mrs. John Bradley (Florence Briggs Th...  female  38.0   \n",
       "2                             Heikkinen, Miss. Laina  female  26.0   \n",
       "3       Futrelle, Mrs. Jacques Heath (Lily May Peel)  female  35.0   \n",
       "4                           Allen, Mr. William Henry    male  35.0   \n",
       "\n",
       "             Ticket     Fare Cabin Embarked  Nmember  Ticket_len  \n",
       "0         A/5 21171   7.2500   NaN        S        2           9  \n",
       "1          PC 17599  71.2833     C        C        2           8  \n",
       "2  STON/O2. 3101282   7.9250   NaN        S        1          16  \n",
       "3            113803  53.1000     C        S        2           6  \n",
       "4            373450   8.0500   NaN        S        1           6  "
      ]
     },
     "execution_count": 26,
     "metadata": {},
     "output_type": "execute_result"
    }
   ],
   "source": [
    "train.drop(columns=['SibSp', 'Parch'], inplace=True)\n",
    "train.head()"
   ]
  },
  {
   "cell_type": "markdown",
   "metadata": {
    "id": "SLWuWCfHo2Fu"
   },
   "source": [
    "### Function for transform data"
   ]
  },
  {
   "cell_type": "code",
   "execution_count": 27,
   "metadata": {
    "id": "w9HAiAhhpmYJ"
   },
   "outputs": [],
   "source": [
    "def remove_zero_fares(row): # Function for processing Fare column\n",
    "    if row.Fare == 0:\n",
    "        row.Fare = np.NaN\n",
    "    return row\n",
    "\n",
    "def age_transform(row): # Function for classifying to age groups\n",
    "  if row['Age'] < 7:\n",
    "    return 0\n",
    "  elif (row['Age'] >= 8) & (row['Age'] < 19):\n",
    "    return 1\n",
    "  elif (row['Age'] >=19) & (row['Age'] < 30):\n",
    "    return 2\n",
    "  elif (row['Age'] >=30) & (row['Age'] < 60):\n",
    "    return  3\n",
    "  else:\n",
    "    return 4\n",
    "\n",
    "def fare_sex(row): # Function for relationship between Fare column and Sex column\n",
    "  special_arrange = (row.Fare >= 200.0) & (row.Fare <=300.0)\n",
    "  not_special_arrange = (row.Fare > 300.0) | (row.Fare < 200.0)\n",
    "  if (row.Sex == 'male') & special_arrange:\n",
    "    return 0\n",
    "  elif (row.Sex == 'female') & special_arrange:\n",
    "    return 1\n",
    "  elif (row.Sex == 'male') & not_special_arrange:\n",
    "    return 0\n",
    "  else:\n",
    "    return 1\n",
    "\n",
    "def age_sex(row): # Function for relationship between Age column and Sex column\n",
    "  special = (row.Age >=8) & (row.Age <= 12)\n",
    "  not_special = (row.Age >12) | (row.Age < 8)\n",
    "  if (row.Sex == 'female') & special:\n",
    "    return 0\n",
    "  else:\n",
    "    return 1\n",
    "    \n",
    "def ticket_len_cat(row):  # Function for classifying to ticket's length groups\n",
    "  if row.Ticket_len <= 5:\n",
    "    return 0\n",
    "  elif (row.Ticket_len > 5) & (row.Ticket_len <= 10):\n",
    "    return 1\n",
    "  else:\n",
    "    return 2"
   ]
  },
  {
   "cell_type": "code",
   "execution_count": 28,
   "metadata": {
    "id": "9l2vJYcgo8k8"
   },
   "outputs": [],
   "source": [
    "def transform_data(data):\n",
    "  data.drop(columns=['Name'])\n",
    "  try:\n",
    "    # Sex column\n",
    "    data['nSex'] = data['Sex'].replace({'male': 0, 'female': 1})\n",
    "\n",
    "    # Age column\n",
    "    data['AgeCa'] = data.apply(age_transform, axis=1)\n",
    "    AgeCa_dummies = pd.get_dummies(data['AgeCa'], prefix='AgeCa')\n",
    "\n",
    "    # Fare column\n",
    "    data = data.apply(remove_zero_fares, axis=1)\n",
    "    data['Fare'].fillna(value=data['Fare'].median())\n",
    "    data['FareCat'] = pd.qcut(data['Fare'], 4, labels = [ 0, 1, 2, 3])\n",
    "    FareCat_dummies = pd.get_dummies(data['FareCat'], prefix='FareCat')\n",
    "\n",
    "    # Cabin column\n",
    "    data['Cabin'] = data['Cabin'].fillna(value='C')\n",
    "    cabin_dummies = pd.get_dummies(data['Cabin'], prefix='Cabin')\n",
    "\n",
    "    # Ticket's column\n",
    "    data['TicketLen'] = data.apply(ticket_len_cat, axis=1)\n",
    "    TicketLen_dummies = pd.get_dummies(data['TicketLen'], prefix='TicketLen')\n",
    "\n",
    "    # Embarked column\n",
    "    data['Embarked'] = data['Embarked'].dropna()\n",
    "    Embarked_dummies = pd.get_dummies(data['Embarked'], prefix='Embarked')\n",
    "\n",
    "    # Nnumber column\n",
    "    Nmember_dummies = pd.get_dummies(data['Nmember'], prefix='Nmember')\n",
    "\n",
    "    #Pclass\n",
    "    Pclass_dummies = pd.get_dummies(data['Pclass'], prefix='Pclass')\n",
    "\n",
    "    # New feature\n",
    "    data['FareSex'] = data.apply(fare_sex, axis=1)\n",
    "\n",
    "    data['AgeSex'] = data.apply(age_sex, axis=1)\n",
    "\n",
    "    # New data\n",
    "    new_data = pd.concat([data[['Survived', 'FareSex', 'AgeSex', 'nSex']],\n",
    "                          AgeCa_dummies, FareCat_dummies, cabin_dummies,\n",
    "                          TicketLen_dummies, Embarked_dummies, Nmember_dummies,\n",
    "                          Pclass_dummies], axis=1)\n",
    "  except: \n",
    "    new_data = pd.concat([data[['FareSex', 'AgeSex', 'nSex']],\n",
    "                          AgeCa_dummies, FareCat_dummies, cabin_dummies,\n",
    "                          TicketLen_dummies, Embarked_dummies, Nmember_dummies,\n",
    "                          Pclass_dummies], axis=1)\n",
    "\n",
    "  return new_data"
   ]
  },
  {
   "cell_type": "code",
   "execution_count": 29,
   "metadata": {
    "colab": {
     "base_uri": "https://localhost:8080/",
     "height": 224
    },
    "id": "7b7rHYhK9NFy",
    "outputId": "9a2d4a4a-c14c-4c8e-a01a-c228075d128b"
   },
   "outputs": [
    {
     "data": {
      "text/html": [
       "<div>\n",
       "<style scoped>\n",
       "    .dataframe tbody tr th:only-of-type {\n",
       "        vertical-align: middle;\n",
       "    }\n",
       "\n",
       "    .dataframe tbody tr th {\n",
       "        vertical-align: top;\n",
       "    }\n",
       "\n",
       "    .dataframe thead th {\n",
       "        text-align: right;\n",
       "    }\n",
       "</style>\n",
       "<table border=\"1\" class=\"dataframe\">\n",
       "  <thead>\n",
       "    <tr style=\"text-align: right;\">\n",
       "      <th></th>\n",
       "      <th>Survived</th>\n",
       "      <th>FareSex</th>\n",
       "      <th>AgeSex</th>\n",
       "      <th>nSex</th>\n",
       "      <th>AgeCa_0</th>\n",
       "      <th>AgeCa_1</th>\n",
       "      <th>AgeCa_2</th>\n",
       "      <th>AgeCa_3</th>\n",
       "      <th>AgeCa_4</th>\n",
       "      <th>FareCat_0</th>\n",
       "      <th>...</th>\n",
       "      <th>Nmember_3</th>\n",
       "      <th>Nmember_4</th>\n",
       "      <th>Nmember_5</th>\n",
       "      <th>Nmember_6</th>\n",
       "      <th>Nmember_7</th>\n",
       "      <th>Nmember_8</th>\n",
       "      <th>Nmember_11</th>\n",
       "      <th>Pclass_1</th>\n",
       "      <th>Pclass_2</th>\n",
       "      <th>Pclass_3</th>\n",
       "    </tr>\n",
       "  </thead>\n",
       "  <tbody>\n",
       "    <tr>\n",
       "      <th>0</th>\n",
       "      <td>0</td>\n",
       "      <td>0</td>\n",
       "      <td>1</td>\n",
       "      <td>0</td>\n",
       "      <td>0</td>\n",
       "      <td>0</td>\n",
       "      <td>1</td>\n",
       "      <td>0</td>\n",
       "      <td>0</td>\n",
       "      <td>1</td>\n",
       "      <td>...</td>\n",
       "      <td>0</td>\n",
       "      <td>0</td>\n",
       "      <td>0</td>\n",
       "      <td>0</td>\n",
       "      <td>0</td>\n",
       "      <td>0</td>\n",
       "      <td>0</td>\n",
       "      <td>0</td>\n",
       "      <td>0</td>\n",
       "      <td>1</td>\n",
       "    </tr>\n",
       "    <tr>\n",
       "      <th>1</th>\n",
       "      <td>1</td>\n",
       "      <td>1</td>\n",
       "      <td>1</td>\n",
       "      <td>1</td>\n",
       "      <td>0</td>\n",
       "      <td>0</td>\n",
       "      <td>0</td>\n",
       "      <td>1</td>\n",
       "      <td>0</td>\n",
       "      <td>0</td>\n",
       "      <td>...</td>\n",
       "      <td>0</td>\n",
       "      <td>0</td>\n",
       "      <td>0</td>\n",
       "      <td>0</td>\n",
       "      <td>0</td>\n",
       "      <td>0</td>\n",
       "      <td>0</td>\n",
       "      <td>1</td>\n",
       "      <td>0</td>\n",
       "      <td>0</td>\n",
       "    </tr>\n",
       "    <tr>\n",
       "      <th>2</th>\n",
       "      <td>1</td>\n",
       "      <td>1</td>\n",
       "      <td>1</td>\n",
       "      <td>1</td>\n",
       "      <td>0</td>\n",
       "      <td>0</td>\n",
       "      <td>1</td>\n",
       "      <td>0</td>\n",
       "      <td>0</td>\n",
       "      <td>1</td>\n",
       "      <td>...</td>\n",
       "      <td>0</td>\n",
       "      <td>0</td>\n",
       "      <td>0</td>\n",
       "      <td>0</td>\n",
       "      <td>0</td>\n",
       "      <td>0</td>\n",
       "      <td>0</td>\n",
       "      <td>0</td>\n",
       "      <td>0</td>\n",
       "      <td>1</td>\n",
       "    </tr>\n",
       "    <tr>\n",
       "      <th>3</th>\n",
       "      <td>1</td>\n",
       "      <td>1</td>\n",
       "      <td>1</td>\n",
       "      <td>1</td>\n",
       "      <td>0</td>\n",
       "      <td>0</td>\n",
       "      <td>0</td>\n",
       "      <td>1</td>\n",
       "      <td>0</td>\n",
       "      <td>0</td>\n",
       "      <td>...</td>\n",
       "      <td>0</td>\n",
       "      <td>0</td>\n",
       "      <td>0</td>\n",
       "      <td>0</td>\n",
       "      <td>0</td>\n",
       "      <td>0</td>\n",
       "      <td>0</td>\n",
       "      <td>1</td>\n",
       "      <td>0</td>\n",
       "      <td>0</td>\n",
       "    </tr>\n",
       "    <tr>\n",
       "      <th>4</th>\n",
       "      <td>0</td>\n",
       "      <td>0</td>\n",
       "      <td>1</td>\n",
       "      <td>0</td>\n",
       "      <td>0</td>\n",
       "      <td>0</td>\n",
       "      <td>0</td>\n",
       "      <td>1</td>\n",
       "      <td>0</td>\n",
       "      <td>0</td>\n",
       "      <td>...</td>\n",
       "      <td>0</td>\n",
       "      <td>0</td>\n",
       "      <td>0</td>\n",
       "      <td>0</td>\n",
       "      <td>0</td>\n",
       "      <td>0</td>\n",
       "      <td>0</td>\n",
       "      <td>0</td>\n",
       "      <td>0</td>\n",
       "      <td>1</td>\n",
       "    </tr>\n",
       "  </tbody>\n",
       "</table>\n",
       "<p>5 rows × 39 columns</p>\n",
       "</div>"
      ],
      "text/plain": [
       "   Survived  FareSex  AgeSex  nSex  AgeCa_0  AgeCa_1  AgeCa_2  AgeCa_3  \\\n",
       "0         0        0       1     0        0        0        1        0   \n",
       "1         1        1       1     1        0        0        0        1   \n",
       "2         1        1       1     1        0        0        1        0   \n",
       "3         1        1       1     1        0        0        0        1   \n",
       "4         0        0       1     0        0        0        0        1   \n",
       "\n",
       "   AgeCa_4  FareCat_0  ...  Nmember_3  Nmember_4  Nmember_5  Nmember_6  \\\n",
       "0        0          1  ...          0          0          0          0   \n",
       "1        0          0  ...          0          0          0          0   \n",
       "2        0          1  ...          0          0          0          0   \n",
       "3        0          0  ...          0          0          0          0   \n",
       "4        0          0  ...          0          0          0          0   \n",
       "\n",
       "   Nmember_7  Nmember_8  Nmember_11  Pclass_1  Pclass_2  Pclass_3  \n",
       "0          0          0           0         0         0         1  \n",
       "1          0          0           0         1         0         0  \n",
       "2          0          0           0         0         0         1  \n",
       "3          0          0           0         1         0         0  \n",
       "4          0          0           0         0         0         1  \n",
       "\n",
       "[5 rows x 39 columns]"
      ]
     },
     "execution_count": 29,
     "metadata": {},
     "output_type": "execute_result"
    }
   ],
   "source": [
    "train_data = transform_data(train)\n",
    "train_data.head()"
   ]
  },
  {
   "cell_type": "code",
   "execution_count": 30,
   "metadata": {
    "colab": {
     "base_uri": "https://localhost:8080/"
    },
    "id": "Dbqc2Fkwwoi0",
    "outputId": "82c27757-6bcb-4c48-9060-1426191dbec2"
   },
   "outputs": [
    {
     "data": {
      "text/plain": [
       "(891, 38)"
      ]
     },
     "execution_count": 30,
     "metadata": {},
     "output_type": "execute_result"
    }
   ],
   "source": [
    "train_data.drop(columns=['Cabin_T'], inplace=True)\n",
    "train_data.shape"
   ]
  },
  {
   "cell_type": "markdown",
   "metadata": {
    "id": "cYbXr9EzehpG"
   },
   "source": [
    "# Train Modeling"
   ]
  },
  {
   "cell_type": "code",
   "execution_count": 31,
   "metadata": {
    "id": "BswaWpcrU7-e"
   },
   "outputs": [],
   "source": [
    "from sklearn.preprocessing import MinMaxScaler\n",
    "def split_data(data):\n",
    "  '''Function for splitting data.\n",
    "  Input: A dataframe \n",
    "  Output: X_train, X_test, y_train, y_test from dataframe input.'''\n",
    "\n",
    "  scale = MinMaxScaler()\n",
    "\n",
    "  X = data.drop(['Survived'], axis=1)\n",
    "  X = scale.fit_transform(X)\n",
    "  y = data['Survived']\n",
    "\n",
    "  # Train_test_split of data 70% - 30%\n",
    "  X_train, X_test, y_train, y_test = train_test_split(X, y.values, test_size=0.3, random_state=365)\n",
    "\n",
    "  return (X_train, X_test, y_train, y_test)\n",
    "\n",
    "def base_learners_evaluation(data, base_classifiers):\n",
    "  '''Function for showing different score from base classifier models.\n",
    "  Input: A dataframe and a list of classifier model\n",
    "  Output: A dataframe score such as accuracy score, f1 score, precision score and recall score. '''\n",
    "\n",
    "\n",
    "  X_train, X_test, y_train, y_test = split_data(data)\n",
    "\n",
    "  idx = []\n",
    "  scores = {'Accuracy': [], 'F1_score': [], 'Precision': [], 'Recall': []}\n",
    "  for bc in base_classifiers:\n",
    "    lm = bc[1]\n",
    "    lm.fit(X_train, y_train)\n",
    "\n",
    "    prediction = lm.predict(X_test)\n",
    "\n",
    "    idx.append(bc[0])\n",
    "\n",
    "    scores['Accuracy'].append(accuracy_score(y_test, prediction))\n",
    "    scores['F1_score'].append(f1_score(y_test, prediction))\n",
    "    scores['Precision'].append(precision_score(y_test, prediction))\n",
    "    scores['Recall'].append(recall_score(y_test, prediction))\n",
    "\n",
    "  return pd.DataFrame(data=scores, index=idx)\n"
   ]
  },
  {
   "cell_type": "code",
   "execution_count": 32,
   "metadata": {
    "colab": {
     "base_uri": "https://localhost:8080/",
     "height": 235
    },
    "id": "7X3Ea6pMZL4L",
    "outputId": "968ffda8-736a-48fa-8348-b17e986bb56e"
   },
   "outputs": [
    {
     "data": {
      "text/html": [
       "<div>\n",
       "<style scoped>\n",
       "    .dataframe tbody tr th:only-of-type {\n",
       "        vertical-align: middle;\n",
       "    }\n",
       "\n",
       "    .dataframe tbody tr th {\n",
       "        vertical-align: top;\n",
       "    }\n",
       "\n",
       "    .dataframe thead th {\n",
       "        text-align: right;\n",
       "    }\n",
       "</style>\n",
       "<table border=\"1\" class=\"dataframe\">\n",
       "  <thead>\n",
       "    <tr style=\"text-align: right;\">\n",
       "      <th></th>\n",
       "      <th>Accuracy</th>\n",
       "      <th>F1_score</th>\n",
       "      <th>Precision</th>\n",
       "      <th>Recall</th>\n",
       "    </tr>\n",
       "  </thead>\n",
       "  <tbody>\n",
       "    <tr>\n",
       "      <th>Decision Tree 3</th>\n",
       "      <td>0.794776</td>\n",
       "      <td>0.662577</td>\n",
       "      <td>0.870968</td>\n",
       "      <td>0.534653</td>\n",
       "    </tr>\n",
       "    <tr>\n",
       "      <th>Decision Tree 5</th>\n",
       "      <td>0.794776</td>\n",
       "      <td>0.678363</td>\n",
       "      <td>0.828571</td>\n",
       "      <td>0.574257</td>\n",
       "    </tr>\n",
       "    <tr>\n",
       "      <th>Decision Tree 8</th>\n",
       "      <td>0.794776</td>\n",
       "      <td>0.726368</td>\n",
       "      <td>0.730000</td>\n",
       "      <td>0.722772</td>\n",
       "    </tr>\n",
       "    <tr>\n",
       "      <th>Naive Bayes</th>\n",
       "      <td>0.432836</td>\n",
       "      <td>0.563218</td>\n",
       "      <td>0.396761</td>\n",
       "      <td>0.970297</td>\n",
       "    </tr>\n",
       "    <tr>\n",
       "      <th>SVC</th>\n",
       "      <td>0.805970</td>\n",
       "      <td>0.690476</td>\n",
       "      <td>0.865672</td>\n",
       "      <td>0.574257</td>\n",
       "    </tr>\n",
       "    <tr>\n",
       "      <th>Logistic Regression</th>\n",
       "      <td>0.813433</td>\n",
       "      <td>0.742268</td>\n",
       "      <td>0.774194</td>\n",
       "      <td>0.712871</td>\n",
       "    </tr>\n",
       "  </tbody>\n",
       "</table>\n",
       "</div>"
      ],
      "text/plain": [
       "                     Accuracy  F1_score  Precision    Recall\n",
       "Decision Tree 3      0.794776  0.662577   0.870968  0.534653\n",
       "Decision Tree 5      0.794776  0.678363   0.828571  0.574257\n",
       "Decision Tree 8      0.794776  0.726368   0.730000  0.722772\n",
       "Naive Bayes          0.432836  0.563218   0.396761  0.970297\n",
       "SVC                  0.805970  0.690476   0.865672  0.574257\n",
       "Logistic Regression  0.813433  0.742268   0.774194  0.712871"
      ]
     },
     "execution_count": 32,
     "metadata": {},
     "output_type": "execute_result"
    }
   ],
   "source": [
    "from sklearn.linear_model import LogisticRegression\n",
    "from sklearn.tree import DecisionTreeClassifier\n",
    "from sklearn.naive_bayes import GaussianNB\n",
    "from sklearn.svm import SVC\n",
    "from sklearn.model_selection import train_test_split\n",
    "from sklearn.metrics import accuracy_score, f1_score, precision_score, recall_score\n",
    "\n",
    "base_classifiers = [('Decision Tree 3', DecisionTreeClassifier(max_depth=3)),\n",
    "                    ('Decision Tree 5', DecisionTreeClassifier(max_depth=5)),\n",
    "                    ('Decision Tree 8', DecisionTreeClassifier(max_depth=8)),\n",
    "                    ('Naive Bayes', GaussianNB()),\n",
    "                    ('SVC', SVC()),\n",
    "                    ('Logistic Regression', LogisticRegression(max_iter=500))]\n",
    "\n",
    "base_learners_evaluation(train_data, base_classifiers)"
   ]
  },
  {
   "cell_type": "markdown",
   "metadata": {
    "id": "_4eYkHqp4xDV"
   },
   "source": [
    "# Feature Selection\n",
    "\n",
    "- We will use the following for this purpose :\n",
    "    - Pearson correlation factor pearson\n",
    "    - chi square test\n",
    "    - f_regression\n",
    "    - f_classif "
   ]
  },
  {
   "cell_type": "markdown",
   "metadata": {
    "id": "FgyQdrvC6TWC"
   },
   "source": [
    "## Using Pearson Correlation factor for feature selection"
   ]
  },
  {
   "cell_type": "code",
   "execution_count": 33,
   "metadata": {
    "colab": {
     "base_uri": "https://localhost:8080/",
     "height": 283
    },
    "id": "f5lDGolQ7Qwk",
    "outputId": "ba1d049b-bb4c-41f1-bdcc-7724a48a37f5"
   },
   "outputs": [
    {
     "data": {
      "text/plain": [
       "<AxesSubplot:>"
      ]
     },
     "execution_count": 33,
     "metadata": {},
     "output_type": "execute_result"
    },
    {
     "data": {
      "image/png": "[encoded data removed]",
      "text/plain": [
       "<Figure size 432x288 with 1 Axes>"
      ]
     },
     "metadata": {
      "needs_background": "light"
     },
     "output_type": "display_data"
    }
   ],
   "source": [
    "correlations = train_data.corr(method='pearson')['Survived'].drop('Survived')\n",
    "correlations.sort_values().plot(kind='barh')"
   ]
  },
  {
   "cell_type": "code",
   "execution_count": 34,
   "metadata": {
    "colab": {
     "base_uri": "https://localhost:8080/"
    },
    "id": "HlJYDKS88HnD",
    "outputId": "f20eb212-d8cc-4574-c74b-0a1966cb8c9b"
   },
   "outputs": [
    {
     "data": {
      "text/plain": [
       "['FareSex',\n",
       " 'nSex',\n",
       " 'AgeCa_0',\n",
       " 'AgeCa_4',\n",
       " 'FareCat_0',\n",
       " 'FareCat_1',\n",
       " 'FareCat_3',\n",
       " 'Cabin_B',\n",
       " 'Cabin_C',\n",
       " 'Cabin_D',\n",
       " 'Cabin_E',\n",
       " 'TicketLen_0',\n",
       " 'TicketLen_1',\n",
       " 'Embarked_C',\n",
       " 'Embarked_S',\n",
       " 'Nmember_1',\n",
       " 'Nmember_2',\n",
       " 'Nmember_3',\n",
       " 'Nmember_4',\n",
       " 'Pclass_1',\n",
       " 'Pclass_3']"
      ]
     },
     "execution_count": 34,
     "metadata": {},
     "output_type": "execute_result"
    }
   ],
   "source": [
    "# Filtering features with lower absolute value than a threshold\n",
    "\n",
    "threshold = 0.1\n",
    "\n",
    "pearson_feature = list(correlations[abs(correlations) > threshold].index.values)\n",
    "pearson_feature"
   ]
  },
  {
   "cell_type": "code",
   "execution_count": 35,
   "metadata": {
    "colab": {
     "base_uri": "https://localhost:8080/",
     "height": 235
    },
    "id": "ZTGvZxN39Gex",
    "outputId": "0eb9f7b4-f27f-4328-f0c3-06487d3990f8"
   },
   "outputs": [
    {
     "data": {
      "text/html": [
       "<div>\n",
       "<style scoped>\n",
       "    .dataframe tbody tr th:only-of-type {\n",
       "        vertical-align: middle;\n",
       "    }\n",
       "\n",
       "    .dataframe tbody tr th {\n",
       "        vertical-align: top;\n",
       "    }\n",
       "\n",
       "    .dataframe thead th {\n",
       "        text-align: right;\n",
       "    }\n",
       "</style>\n",
       "<table border=\"1\" class=\"dataframe\">\n",
       "  <thead>\n",
       "    <tr style=\"text-align: right;\">\n",
       "      <th></th>\n",
       "      <th>Accuracy</th>\n",
       "      <th>F1_score</th>\n",
       "      <th>Precision</th>\n",
       "      <th>Recall</th>\n",
       "    </tr>\n",
       "  </thead>\n",
       "  <tbody>\n",
       "    <tr>\n",
       "      <th>Decision Tree 3</th>\n",
       "      <td>0.794776</td>\n",
       "      <td>0.658385</td>\n",
       "      <td>0.883333</td>\n",
       "      <td>0.524752</td>\n",
       "    </tr>\n",
       "    <tr>\n",
       "      <th>Decision Tree 5</th>\n",
       "      <td>0.791045</td>\n",
       "      <td>0.666667</td>\n",
       "      <td>0.835821</td>\n",
       "      <td>0.554455</td>\n",
       "    </tr>\n",
       "    <tr>\n",
       "      <th>Decision Tree 8</th>\n",
       "      <td>0.809701</td>\n",
       "      <td>0.730159</td>\n",
       "      <td>0.784091</td>\n",
       "      <td>0.683168</td>\n",
       "    </tr>\n",
       "    <tr>\n",
       "      <th>Naive Bayes</th>\n",
       "      <td>0.776119</td>\n",
       "      <td>0.680851</td>\n",
       "      <td>0.735632</td>\n",
       "      <td>0.633663</td>\n",
       "    </tr>\n",
       "    <tr>\n",
       "      <th>SVC</th>\n",
       "      <td>0.813433</td>\n",
       "      <td>0.709302</td>\n",
       "      <td>0.859155</td>\n",
       "      <td>0.603960</td>\n",
       "    </tr>\n",
       "    <tr>\n",
       "      <th>Logistic Regression</th>\n",
       "      <td>0.824627</td>\n",
       "      <td>0.761421</td>\n",
       "      <td>0.781250</td>\n",
       "      <td>0.742574</td>\n",
       "    </tr>\n",
       "  </tbody>\n",
       "</table>\n",
       "</div>"
      ],
      "text/plain": [
       "                     Accuracy  F1_score  Precision    Recall\n",
       "Decision Tree 3      0.794776  0.658385   0.883333  0.524752\n",
       "Decision Tree 5      0.791045  0.666667   0.835821  0.554455\n",
       "Decision Tree 8      0.809701  0.730159   0.784091  0.683168\n",
       "Naive Bayes          0.776119  0.680851   0.735632  0.633663\n",
       "SVC                  0.813433  0.709302   0.859155  0.603960\n",
       "Logistic Regression  0.824627  0.761421   0.781250  0.742574"
      ]
     },
     "execution_count": 35,
     "metadata": {},
     "output_type": "execute_result"
    }
   ],
   "source": [
    "data_corr = pd.concat([train_data[pearson_feature], train_data['Survived']], axis=1)\n",
    "\n",
    "base_learners_evaluation(data_corr, base_classifiers)"
   ]
  },
  {
   "cell_type": "markdown",
   "metadata": {
    "id": "JZ5xiqfi-XBv"
   },
   "source": [
    "## Using chi2 test for feature selection"
   ]
  },
  {
   "cell_type": "code",
   "execution_count": 36,
   "metadata": {
    "colab": {
     "base_uri": "https://localhost:8080/",
     "height": 204
    },
    "id": "eXfYK6Wf-0Lh",
    "outputId": "9c821f35-0a19-4a02-ba62-736fc92189fe"
   },
   "outputs": [
    {
     "data": {
      "text/html": [
       "<div>\n",
       "<style scoped>\n",
       "    .dataframe tbody tr th:only-of-type {\n",
       "        vertical-align: middle;\n",
       "    }\n",
       "\n",
       "    .dataframe tbody tr th {\n",
       "        vertical-align: top;\n",
       "    }\n",
       "\n",
       "    .dataframe thead th {\n",
       "        text-align: right;\n",
       "    }\n",
       "</style>\n",
       "<table border=\"1\" class=\"dataframe\">\n",
       "  <thead>\n",
       "    <tr style=\"text-align: right;\">\n",
       "      <th></th>\n",
       "      <th>0</th>\n",
       "      <th>1</th>\n",
       "      <th>2</th>\n",
       "      <th>3</th>\n",
       "      <th>4</th>\n",
       "      <th>5</th>\n",
       "      <th>6</th>\n",
       "      <th>7</th>\n",
       "      <th>8</th>\n",
       "      <th>9</th>\n",
       "      <th>...</th>\n",
       "      <th>17</th>\n",
       "      <th>18</th>\n",
       "      <th>19</th>\n",
       "      <th>20</th>\n",
       "      <th>21</th>\n",
       "      <th>22</th>\n",
       "      <th>23</th>\n",
       "      <th>24</th>\n",
       "      <th>25</th>\n",
       "      <th>26</th>\n",
       "    </tr>\n",
       "  </thead>\n",
       "  <tbody>\n",
       "    <tr>\n",
       "      <th>0</th>\n",
       "      <td>0</td>\n",
       "      <td>0</td>\n",
       "      <td>0</td>\n",
       "      <td>0</td>\n",
       "      <td>1</td>\n",
       "      <td>0</td>\n",
       "      <td>0</td>\n",
       "      <td>0</td>\n",
       "      <td>0</td>\n",
       "      <td>1</td>\n",
       "      <td>...</td>\n",
       "      <td>0</td>\n",
       "      <td>1</td>\n",
       "      <td>0</td>\n",
       "      <td>0</td>\n",
       "      <td>0</td>\n",
       "      <td>0</td>\n",
       "      <td>0</td>\n",
       "      <td>0</td>\n",
       "      <td>0</td>\n",
       "      <td>1</td>\n",
       "    </tr>\n",
       "    <tr>\n",
       "      <th>1</th>\n",
       "      <td>1</td>\n",
       "      <td>1</td>\n",
       "      <td>0</td>\n",
       "      <td>0</td>\n",
       "      <td>0</td>\n",
       "      <td>0</td>\n",
       "      <td>0</td>\n",
       "      <td>1</td>\n",
       "      <td>0</td>\n",
       "      <td>1</td>\n",
       "      <td>...</td>\n",
       "      <td>0</td>\n",
       "      <td>1</td>\n",
       "      <td>0</td>\n",
       "      <td>0</td>\n",
       "      <td>0</td>\n",
       "      <td>0</td>\n",
       "      <td>0</td>\n",
       "      <td>1</td>\n",
       "      <td>0</td>\n",
       "      <td>0</td>\n",
       "    </tr>\n",
       "    <tr>\n",
       "      <th>2</th>\n",
       "      <td>1</td>\n",
       "      <td>1</td>\n",
       "      <td>0</td>\n",
       "      <td>0</td>\n",
       "      <td>1</td>\n",
       "      <td>0</td>\n",
       "      <td>0</td>\n",
       "      <td>0</td>\n",
       "      <td>0</td>\n",
       "      <td>1</td>\n",
       "      <td>...</td>\n",
       "      <td>1</td>\n",
       "      <td>0</td>\n",
       "      <td>0</td>\n",
       "      <td>0</td>\n",
       "      <td>0</td>\n",
       "      <td>0</td>\n",
       "      <td>0</td>\n",
       "      <td>0</td>\n",
       "      <td>0</td>\n",
       "      <td>1</td>\n",
       "    </tr>\n",
       "    <tr>\n",
       "      <th>3</th>\n",
       "      <td>1</td>\n",
       "      <td>1</td>\n",
       "      <td>0</td>\n",
       "      <td>0</td>\n",
       "      <td>0</td>\n",
       "      <td>0</td>\n",
       "      <td>0</td>\n",
       "      <td>1</td>\n",
       "      <td>0</td>\n",
       "      <td>1</td>\n",
       "      <td>...</td>\n",
       "      <td>0</td>\n",
       "      <td>1</td>\n",
       "      <td>0</td>\n",
       "      <td>0</td>\n",
       "      <td>0</td>\n",
       "      <td>0</td>\n",
       "      <td>0</td>\n",
       "      <td>1</td>\n",
       "      <td>0</td>\n",
       "      <td>0</td>\n",
       "    </tr>\n",
       "    <tr>\n",
       "      <th>4</th>\n",
       "      <td>0</td>\n",
       "      <td>0</td>\n",
       "      <td>0</td>\n",
       "      <td>0</td>\n",
       "      <td>0</td>\n",
       "      <td>1</td>\n",
       "      <td>0</td>\n",
       "      <td>0</td>\n",
       "      <td>0</td>\n",
       "      <td>1</td>\n",
       "      <td>...</td>\n",
       "      <td>1</td>\n",
       "      <td>0</td>\n",
       "      <td>0</td>\n",
       "      <td>0</td>\n",
       "      <td>0</td>\n",
       "      <td>0</td>\n",
       "      <td>0</td>\n",
       "      <td>0</td>\n",
       "      <td>0</td>\n",
       "      <td>1</td>\n",
       "    </tr>\n",
       "  </tbody>\n",
       "</table>\n",
       "<p>5 rows × 27 columns</p>\n",
       "</div>"
      ],
      "text/plain": [
       "   0   1   2   3   4   5   6   7   8   9   ...  17  18  19  20  21  22  23  \\\n",
       "0   0   0   0   0   1   0   0   0   0   1  ...   0   1   0   0   0   0   0   \n",
       "1   1   1   0   0   0   0   0   1   0   1  ...   0   1   0   0   0   0   0   \n",
       "2   1   1   0   0   1   0   0   0   0   1  ...   1   0   0   0   0   0   0   \n",
       "3   1   1   0   0   0   0   0   1   0   1  ...   0   1   0   0   0   0   0   \n",
       "4   0   0   0   0   0   1   0   0   0   1  ...   1   0   0   0   0   0   0   \n",
       "\n",
       "   24  25  26  \n",
       "0   0   0   1  \n",
       "1   1   0   0  \n",
       "2   0   0   1  \n",
       "3   1   0   0  \n",
       "4   0   0   1  \n",
       "\n",
       "[5 rows x 27 columns]"
      ]
     },
     "execution_count": 36,
     "metadata": {},
     "output_type": "execute_result"
    }
   ],
   "source": [
    "from sklearn.feature_selection import SelectKBest, chi2\n",
    "\n",
    "# Finding the best 20 features using chi2 test\n",
    "data_chi2 = pd.DataFrame(SelectKBest(chi2, k=27).fit_transform(train_data.drop([\"Survived\"],axis = 1),train_data[\"Survived\"]))\n",
    "data_chi2.head()"
   ]
  },
  {
   "cell_type": "code",
   "execution_count": 37,
   "metadata": {
    "colab": {
     "base_uri": "https://localhost:8080/",
     "height": 235
    },
    "id": "f-apveyS_yqx",
    "outputId": "dd8ab7ab-7941-454b-eb3c-09a1de105df4"
   },
   "outputs": [
    {
     "data": {
      "text/html": [
       "<div>\n",
       "<style scoped>\n",
       "    .dataframe tbody tr th:only-of-type {\n",
       "        vertical-align: middle;\n",
       "    }\n",
       "\n",
       "    .dataframe tbody tr th {\n",
       "        vertical-align: top;\n",
       "    }\n",
       "\n",
       "    .dataframe thead th {\n",
       "        text-align: right;\n",
       "    }\n",
       "</style>\n",
       "<table border=\"1\" class=\"dataframe\">\n",
       "  <thead>\n",
       "    <tr style=\"text-align: right;\">\n",
       "      <th></th>\n",
       "      <th>Accuracy</th>\n",
       "      <th>F1_score</th>\n",
       "      <th>Precision</th>\n",
       "      <th>Recall</th>\n",
       "    </tr>\n",
       "  </thead>\n",
       "  <tbody>\n",
       "    <tr>\n",
       "      <th>Decision Tree 3</th>\n",
       "      <td>0.794776</td>\n",
       "      <td>0.662577</td>\n",
       "      <td>0.870968</td>\n",
       "      <td>0.534653</td>\n",
       "    </tr>\n",
       "    <tr>\n",
       "      <th>Decision Tree 5</th>\n",
       "      <td>0.794776</td>\n",
       "      <td>0.674556</td>\n",
       "      <td>0.838235</td>\n",
       "      <td>0.564356</td>\n",
       "    </tr>\n",
       "    <tr>\n",
       "      <th>Decision Tree 8</th>\n",
       "      <td>0.813433</td>\n",
       "      <td>0.734043</td>\n",
       "      <td>0.793103</td>\n",
       "      <td>0.683168</td>\n",
       "    </tr>\n",
       "    <tr>\n",
       "      <th>Naive Bayes</th>\n",
       "      <td>0.417910</td>\n",
       "      <td>0.559322</td>\n",
       "      <td>0.391304</td>\n",
       "      <td>0.980198</td>\n",
       "    </tr>\n",
       "    <tr>\n",
       "      <th>SVC</th>\n",
       "      <td>0.802239</td>\n",
       "      <td>0.690058</td>\n",
       "      <td>0.842857</td>\n",
       "      <td>0.584158</td>\n",
       "    </tr>\n",
       "    <tr>\n",
       "      <th>Logistic Regression</th>\n",
       "      <td>0.820896</td>\n",
       "      <td>0.755102</td>\n",
       "      <td>0.778947</td>\n",
       "      <td>0.732673</td>\n",
       "    </tr>\n",
       "  </tbody>\n",
       "</table>\n",
       "</div>"
      ],
      "text/plain": [
       "                     Accuracy  F1_score  Precision    Recall\n",
       "Decision Tree 3      0.794776  0.662577   0.870968  0.534653\n",
       "Decision Tree 5      0.794776  0.674556   0.838235  0.564356\n",
       "Decision Tree 8      0.813433  0.734043   0.793103  0.683168\n",
       "Naive Bayes          0.417910  0.559322   0.391304  0.980198\n",
       "SVC                  0.802239  0.690058   0.842857  0.584158\n",
       "Logistic Regression  0.820896  0.755102   0.778947  0.732673"
      ]
     },
     "execution_count": 37,
     "metadata": {},
     "output_type": "execute_result"
    }
   ],
   "source": [
    "data_chi2 = pd.concat([data_chi2, train_data['Survived']], axis=1)\n",
    "base_learners_evaluation(data_chi2, base_classifiers)"
   ]
  },
  {
   "cell_type": "markdown",
   "metadata": {
    "id": "jbSgzDfoC5ts"
   },
   "source": [
    "## Using f_classif for feature selection"
   ]
  },
  {
   "cell_type": "code",
   "execution_count": 38,
   "metadata": {
    "colab": {
     "base_uri": "https://localhost:8080/",
     "height": 204
    },
    "id": "RHRuYrduDDWO",
    "outputId": "5379c8cb-95d7-47e1-a370-715591cb3d5d"
   },
   "outputs": [
    {
     "name": "stderr",
     "output_type": "stream",
     "text": [
      "/home/quyanh/.local/lib/python3.8/site-packages/sklearn/utils/validation.py:70: FutureWarning: Pass k=27 as keyword args. From version 1.0 (renaming of 0.25) passing these as positional arguments will result in an error\n",
      "  warnings.warn(f\"Pass {args_msg} as keyword args. From version \"\n"
     ]
    },
    {
     "data": {
      "text/html": [
       "<div>\n",
       "<style scoped>\n",
       "    .dataframe tbody tr th:only-of-type {\n",
       "        vertical-align: middle;\n",
       "    }\n",
       "\n",
       "    .dataframe tbody tr th {\n",
       "        vertical-align: top;\n",
       "    }\n",
       "\n",
       "    .dataframe thead th {\n",
       "        text-align: right;\n",
       "    }\n",
       "</style>\n",
       "<table border=\"1\" class=\"dataframe\">\n",
       "  <thead>\n",
       "    <tr style=\"text-align: right;\">\n",
       "      <th></th>\n",
       "      <th>0</th>\n",
       "      <th>1</th>\n",
       "      <th>2</th>\n",
       "      <th>3</th>\n",
       "      <th>4</th>\n",
       "      <th>5</th>\n",
       "      <th>6</th>\n",
       "      <th>7</th>\n",
       "      <th>8</th>\n",
       "      <th>9</th>\n",
       "      <th>...</th>\n",
       "      <th>17</th>\n",
       "      <th>18</th>\n",
       "      <th>19</th>\n",
       "      <th>20</th>\n",
       "      <th>21</th>\n",
       "      <th>22</th>\n",
       "      <th>23</th>\n",
       "      <th>24</th>\n",
       "      <th>25</th>\n",
       "      <th>26</th>\n",
       "    </tr>\n",
       "  </thead>\n",
       "  <tbody>\n",
       "    <tr>\n",
       "      <th>0</th>\n",
       "      <td>0</td>\n",
       "      <td>0</td>\n",
       "      <td>0</td>\n",
       "      <td>0</td>\n",
       "      <td>1</td>\n",
       "      <td>0</td>\n",
       "      <td>0</td>\n",
       "      <td>0</td>\n",
       "      <td>0</td>\n",
       "      <td>1</td>\n",
       "      <td>...</td>\n",
       "      <td>0</td>\n",
       "      <td>1</td>\n",
       "      <td>0</td>\n",
       "      <td>0</td>\n",
       "      <td>0</td>\n",
       "      <td>0</td>\n",
       "      <td>0</td>\n",
       "      <td>0</td>\n",
       "      <td>0</td>\n",
       "      <td>1</td>\n",
       "    </tr>\n",
       "    <tr>\n",
       "      <th>1</th>\n",
       "      <td>1</td>\n",
       "      <td>1</td>\n",
       "      <td>0</td>\n",
       "      <td>0</td>\n",
       "      <td>0</td>\n",
       "      <td>0</td>\n",
       "      <td>0</td>\n",
       "      <td>1</td>\n",
       "      <td>0</td>\n",
       "      <td>1</td>\n",
       "      <td>...</td>\n",
       "      <td>0</td>\n",
       "      <td>1</td>\n",
       "      <td>0</td>\n",
       "      <td>0</td>\n",
       "      <td>0</td>\n",
       "      <td>0</td>\n",
       "      <td>0</td>\n",
       "      <td>1</td>\n",
       "      <td>0</td>\n",
       "      <td>0</td>\n",
       "    </tr>\n",
       "    <tr>\n",
       "      <th>2</th>\n",
       "      <td>1</td>\n",
       "      <td>1</td>\n",
       "      <td>0</td>\n",
       "      <td>0</td>\n",
       "      <td>1</td>\n",
       "      <td>0</td>\n",
       "      <td>0</td>\n",
       "      <td>0</td>\n",
       "      <td>0</td>\n",
       "      <td>1</td>\n",
       "      <td>...</td>\n",
       "      <td>1</td>\n",
       "      <td>0</td>\n",
       "      <td>0</td>\n",
       "      <td>0</td>\n",
       "      <td>0</td>\n",
       "      <td>0</td>\n",
       "      <td>0</td>\n",
       "      <td>0</td>\n",
       "      <td>0</td>\n",
       "      <td>1</td>\n",
       "    </tr>\n",
       "    <tr>\n",
       "      <th>3</th>\n",
       "      <td>1</td>\n",
       "      <td>1</td>\n",
       "      <td>0</td>\n",
       "      <td>0</td>\n",
       "      <td>0</td>\n",
       "      <td>0</td>\n",
       "      <td>0</td>\n",
       "      <td>1</td>\n",
       "      <td>0</td>\n",
       "      <td>1</td>\n",
       "      <td>...</td>\n",
       "      <td>0</td>\n",
       "      <td>1</td>\n",
       "      <td>0</td>\n",
       "      <td>0</td>\n",
       "      <td>0</td>\n",
       "      <td>0</td>\n",
       "      <td>0</td>\n",
       "      <td>1</td>\n",
       "      <td>0</td>\n",
       "      <td>0</td>\n",
       "    </tr>\n",
       "    <tr>\n",
       "      <th>4</th>\n",
       "      <td>0</td>\n",
       "      <td>0</td>\n",
       "      <td>0</td>\n",
       "      <td>0</td>\n",
       "      <td>0</td>\n",
       "      <td>1</td>\n",
       "      <td>0</td>\n",
       "      <td>0</td>\n",
       "      <td>0</td>\n",
       "      <td>1</td>\n",
       "      <td>...</td>\n",
       "      <td>1</td>\n",
       "      <td>0</td>\n",
       "      <td>0</td>\n",
       "      <td>0</td>\n",
       "      <td>0</td>\n",
       "      <td>0</td>\n",
       "      <td>0</td>\n",
       "      <td>0</td>\n",
       "      <td>0</td>\n",
       "      <td>1</td>\n",
       "    </tr>\n",
       "  </tbody>\n",
       "</table>\n",
       "<p>5 rows × 27 columns</p>\n",
       "</div>"
      ],
      "text/plain": [
       "   0   1   2   3   4   5   6   7   8   9   ...  17  18  19  20  21  22  23  \\\n",
       "0   0   0   0   0   1   0   0   0   0   1  ...   0   1   0   0   0   0   0   \n",
       "1   1   1   0   0   0   0   0   1   0   1  ...   0   1   0   0   0   0   0   \n",
       "2   1   1   0   0   1   0   0   0   0   1  ...   1   0   0   0   0   0   0   \n",
       "3   1   1   0   0   0   0   0   1   0   1  ...   0   1   0   0   0   0   0   \n",
       "4   0   0   0   0   0   1   0   0   0   1  ...   1   0   0   0   0   0   0   \n",
       "\n",
       "   24  25  26  \n",
       "0   0   0   1  \n",
       "1   1   0   0  \n",
       "2   0   0   1  \n",
       "3   1   0   0  \n",
       "4   0   0   1  \n",
       "\n",
       "[5 rows x 27 columns]"
      ]
     },
     "execution_count": 38,
     "metadata": {},
     "output_type": "execute_result"
    }
   ],
   "source": [
    "from sklearn.feature_selection import SelectKBest, f_classif\n",
    "\n",
    "# Find the best 20 feature by f_classif test\n",
    "data_classif = pd.DataFrame(SelectKBest(f_classif, 27).fit_transform(train_data.drop(['Survived'], axis=1), train_data['Survived']))\n",
    "data_classif.head()"
   ]
  },
  {
   "cell_type": "code",
   "execution_count": 39,
   "metadata": {
    "colab": {
     "base_uri": "https://localhost:8080/",
     "height": 235
    },
    "id": "G3WmrmgNEXTJ",
    "outputId": "b3d8d42b-eed7-4a8f-cdbc-74243d389380"
   },
   "outputs": [
    {
     "data": {
      "text/html": [
       "<div>\n",
       "<style scoped>\n",
       "    .dataframe tbody tr th:only-of-type {\n",
       "        vertical-align: middle;\n",
       "    }\n",
       "\n",
       "    .dataframe tbody tr th {\n",
       "        vertical-align: top;\n",
       "    }\n",
       "\n",
       "    .dataframe thead th {\n",
       "        text-align: right;\n",
       "    }\n",
       "</style>\n",
       "<table border=\"1\" class=\"dataframe\">\n",
       "  <thead>\n",
       "    <tr style=\"text-align: right;\">\n",
       "      <th></th>\n",
       "      <th>Accuracy</th>\n",
       "      <th>F1_score</th>\n",
       "      <th>Precision</th>\n",
       "      <th>Recall</th>\n",
       "    </tr>\n",
       "  </thead>\n",
       "  <tbody>\n",
       "    <tr>\n",
       "      <th>Decision Tree 3</th>\n",
       "      <td>0.794776</td>\n",
       "      <td>0.662577</td>\n",
       "      <td>0.870968</td>\n",
       "      <td>0.534653</td>\n",
       "    </tr>\n",
       "    <tr>\n",
       "      <th>Decision Tree 5</th>\n",
       "      <td>0.791045</td>\n",
       "      <td>0.670588</td>\n",
       "      <td>0.826087</td>\n",
       "      <td>0.564356</td>\n",
       "    </tr>\n",
       "    <tr>\n",
       "      <th>Decision Tree 8</th>\n",
       "      <td>0.809701</td>\n",
       "      <td>0.730159</td>\n",
       "      <td>0.784091</td>\n",
       "      <td>0.683168</td>\n",
       "    </tr>\n",
       "    <tr>\n",
       "      <th>Naive Bayes</th>\n",
       "      <td>0.417910</td>\n",
       "      <td>0.559322</td>\n",
       "      <td>0.391304</td>\n",
       "      <td>0.980198</td>\n",
       "    </tr>\n",
       "    <tr>\n",
       "      <th>SVC</th>\n",
       "      <td>0.802239</td>\n",
       "      <td>0.690058</td>\n",
       "      <td>0.842857</td>\n",
       "      <td>0.584158</td>\n",
       "    </tr>\n",
       "    <tr>\n",
       "      <th>Logistic Regression</th>\n",
       "      <td>0.820896</td>\n",
       "      <td>0.755102</td>\n",
       "      <td>0.778947</td>\n",
       "      <td>0.732673</td>\n",
       "    </tr>\n",
       "  </tbody>\n",
       "</table>\n",
       "</div>"
      ],
      "text/plain": [
       "                     Accuracy  F1_score  Precision    Recall\n",
       "Decision Tree 3      0.794776  0.662577   0.870968  0.534653\n",
       "Decision Tree 5      0.791045  0.670588   0.826087  0.564356\n",
       "Decision Tree 8      0.809701  0.730159   0.784091  0.683168\n",
       "Naive Bayes          0.417910  0.559322   0.391304  0.980198\n",
       "SVC                  0.802239  0.690058   0.842857  0.584158\n",
       "Logistic Regression  0.820896  0.755102   0.778947  0.732673"
      ]
     },
     "execution_count": 39,
     "metadata": {},
     "output_type": "execute_result"
    }
   ],
   "source": [
    "data_classif = pd.concat([data_classif, train_data['Survived']], axis=1)\n",
    "base_learners_evaluation(data_classif, base_classifiers)"
   ]
  },
  {
   "cell_type": "markdown",
   "metadata": {
    "id": "SOFOQx78Fg9c"
   },
   "source": [
    "## Using f_regression for feature selection"
   ]
  },
  {
   "cell_type": "code",
   "execution_count": 40,
   "metadata": {
    "colab": {
     "base_uri": "https://localhost:8080/",
     "height": 204
    },
    "id": "LebBSmfEFllm",
    "outputId": "9acc549b-e386-431e-e062-9aa06c480a13"
   },
   "outputs": [
    {
     "name": "stderr",
     "output_type": "stream",
     "text": [
      "/home/quyanh/.local/lib/python3.8/site-packages/sklearn/utils/validation.py:70: FutureWarning: Pass k=27 as keyword args. From version 1.0 (renaming of 0.25) passing these as positional arguments will result in an error\n",
      "  warnings.warn(f\"Pass {args_msg} as keyword args. From version \"\n"
     ]
    },
    {
     "data": {
      "text/html": [
       "<div>\n",
       "<style scoped>\n",
       "    .dataframe tbody tr th:only-of-type {\n",
       "        vertical-align: middle;\n",
       "    }\n",
       "\n",
       "    .dataframe tbody tr th {\n",
       "        vertical-align: top;\n",
       "    }\n",
       "\n",
       "    .dataframe thead th {\n",
       "        text-align: right;\n",
       "    }\n",
       "</style>\n",
       "<table border=\"1\" class=\"dataframe\">\n",
       "  <thead>\n",
       "    <tr style=\"text-align: right;\">\n",
       "      <th></th>\n",
       "      <th>0</th>\n",
       "      <th>1</th>\n",
       "      <th>2</th>\n",
       "      <th>3</th>\n",
       "      <th>4</th>\n",
       "      <th>5</th>\n",
       "      <th>6</th>\n",
       "      <th>7</th>\n",
       "      <th>8</th>\n",
       "      <th>9</th>\n",
       "      <th>...</th>\n",
       "      <th>17</th>\n",
       "      <th>18</th>\n",
       "      <th>19</th>\n",
       "      <th>20</th>\n",
       "      <th>21</th>\n",
       "      <th>22</th>\n",
       "      <th>23</th>\n",
       "      <th>24</th>\n",
       "      <th>25</th>\n",
       "      <th>26</th>\n",
       "    </tr>\n",
       "  </thead>\n",
       "  <tbody>\n",
       "    <tr>\n",
       "      <th>0</th>\n",
       "      <td>0</td>\n",
       "      <td>0</td>\n",
       "      <td>0</td>\n",
       "      <td>0</td>\n",
       "      <td>1</td>\n",
       "      <td>0</td>\n",
       "      <td>0</td>\n",
       "      <td>0</td>\n",
       "      <td>0</td>\n",
       "      <td>1</td>\n",
       "      <td>...</td>\n",
       "      <td>0</td>\n",
       "      <td>1</td>\n",
       "      <td>0</td>\n",
       "      <td>0</td>\n",
       "      <td>0</td>\n",
       "      <td>0</td>\n",
       "      <td>0</td>\n",
       "      <td>0</td>\n",
       "      <td>0</td>\n",
       "      <td>1</td>\n",
       "    </tr>\n",
       "    <tr>\n",
       "      <th>1</th>\n",
       "      <td>1</td>\n",
       "      <td>1</td>\n",
       "      <td>0</td>\n",
       "      <td>0</td>\n",
       "      <td>0</td>\n",
       "      <td>0</td>\n",
       "      <td>0</td>\n",
       "      <td>1</td>\n",
       "      <td>0</td>\n",
       "      <td>1</td>\n",
       "      <td>...</td>\n",
       "      <td>0</td>\n",
       "      <td>1</td>\n",
       "      <td>0</td>\n",
       "      <td>0</td>\n",
       "      <td>0</td>\n",
       "      <td>0</td>\n",
       "      <td>0</td>\n",
       "      <td>1</td>\n",
       "      <td>0</td>\n",
       "      <td>0</td>\n",
       "    </tr>\n",
       "    <tr>\n",
       "      <th>2</th>\n",
       "      <td>1</td>\n",
       "      <td>1</td>\n",
       "      <td>0</td>\n",
       "      <td>0</td>\n",
       "      <td>1</td>\n",
       "      <td>0</td>\n",
       "      <td>0</td>\n",
       "      <td>0</td>\n",
       "      <td>0</td>\n",
       "      <td>1</td>\n",
       "      <td>...</td>\n",
       "      <td>1</td>\n",
       "      <td>0</td>\n",
       "      <td>0</td>\n",
       "      <td>0</td>\n",
       "      <td>0</td>\n",
       "      <td>0</td>\n",
       "      <td>0</td>\n",
       "      <td>0</td>\n",
       "      <td>0</td>\n",
       "      <td>1</td>\n",
       "    </tr>\n",
       "    <tr>\n",
       "      <th>3</th>\n",
       "      <td>1</td>\n",
       "      <td>1</td>\n",
       "      <td>0</td>\n",
       "      <td>0</td>\n",
       "      <td>0</td>\n",
       "      <td>0</td>\n",
       "      <td>0</td>\n",
       "      <td>1</td>\n",
       "      <td>0</td>\n",
       "      <td>1</td>\n",
       "      <td>...</td>\n",
       "      <td>0</td>\n",
       "      <td>1</td>\n",
       "      <td>0</td>\n",
       "      <td>0</td>\n",
       "      <td>0</td>\n",
       "      <td>0</td>\n",
       "      <td>0</td>\n",
       "      <td>1</td>\n",
       "      <td>0</td>\n",
       "      <td>0</td>\n",
       "    </tr>\n",
       "    <tr>\n",
       "      <th>4</th>\n",
       "      <td>0</td>\n",
       "      <td>0</td>\n",
       "      <td>0</td>\n",
       "      <td>0</td>\n",
       "      <td>0</td>\n",
       "      <td>1</td>\n",
       "      <td>0</td>\n",
       "      <td>0</td>\n",
       "      <td>0</td>\n",
       "      <td>1</td>\n",
       "      <td>...</td>\n",
       "      <td>1</td>\n",
       "      <td>0</td>\n",
       "      <td>0</td>\n",
       "      <td>0</td>\n",
       "      <td>0</td>\n",
       "      <td>0</td>\n",
       "      <td>0</td>\n",
       "      <td>0</td>\n",
       "      <td>0</td>\n",
       "      <td>1</td>\n",
       "    </tr>\n",
       "  </tbody>\n",
       "</table>\n",
       "<p>5 rows × 27 columns</p>\n",
       "</div>"
      ],
      "text/plain": [
       "   0   1   2   3   4   5   6   7   8   9   ...  17  18  19  20  21  22  23  \\\n",
       "0   0   0   0   0   1   0   0   0   0   1  ...   0   1   0   0   0   0   0   \n",
       "1   1   1   0   0   0   0   0   1   0   1  ...   0   1   0   0   0   0   0   \n",
       "2   1   1   0   0   1   0   0   0   0   1  ...   1   0   0   0   0   0   0   \n",
       "3   1   1   0   0   0   0   0   1   0   1  ...   0   1   0   0   0   0   0   \n",
       "4   0   0   0   0   0   1   0   0   0   1  ...   1   0   0   0   0   0   0   \n",
       "\n",
       "   24  25  26  \n",
       "0   0   0   1  \n",
       "1   1   0   0  \n",
       "2   0   0   1  \n",
       "3   1   0   0  \n",
       "4   0   0   1  \n",
       "\n",
       "[5 rows x 27 columns]"
      ]
     },
     "execution_count": 40,
     "metadata": {},
     "output_type": "execute_result"
    }
   ],
   "source": [
    "from sklearn.feature_selection import SelectKBest, f_regression\n",
    "\n",
    "# Find the best 20 feature by f_regression test\n",
    "data_regression = pd.DataFrame(SelectKBest(f_regression, 27).fit_transform(train_data.drop(['Survived'], axis=1), train_data['Survived']))\n",
    "data_regression.head()"
   ]
  },
  {
   "cell_type": "code",
   "execution_count": 41,
   "metadata": {
    "colab": {
     "base_uri": "https://localhost:8080/",
     "height": 235
    },
    "id": "CwVRCKaqF9dX",
    "outputId": "eb4b35a7-2846-4fce-bc04-9e10ea4a90ef"
   },
   "outputs": [
    {
     "data": {
      "text/html": [
       "<div>\n",
       "<style scoped>\n",
       "    .dataframe tbody tr th:only-of-type {\n",
       "        vertical-align: middle;\n",
       "    }\n",
       "\n",
       "    .dataframe tbody tr th {\n",
       "        vertical-align: top;\n",
       "    }\n",
       "\n",
       "    .dataframe thead th {\n",
       "        text-align: right;\n",
       "    }\n",
       "</style>\n",
       "<table border=\"1\" class=\"dataframe\">\n",
       "  <thead>\n",
       "    <tr style=\"text-align: right;\">\n",
       "      <th></th>\n",
       "      <th>Accuracy</th>\n",
       "      <th>F1_score</th>\n",
       "      <th>Precision</th>\n",
       "      <th>Recall</th>\n",
       "    </tr>\n",
       "  </thead>\n",
       "  <tbody>\n",
       "    <tr>\n",
       "      <th>Decision Tree 3</th>\n",
       "      <td>0.794776</td>\n",
       "      <td>0.662577</td>\n",
       "      <td>0.870968</td>\n",
       "      <td>0.534653</td>\n",
       "    </tr>\n",
       "    <tr>\n",
       "      <th>Decision Tree 5</th>\n",
       "      <td>0.798507</td>\n",
       "      <td>0.682353</td>\n",
       "      <td>0.840580</td>\n",
       "      <td>0.574257</td>\n",
       "    </tr>\n",
       "    <tr>\n",
       "      <th>Decision Tree 8</th>\n",
       "      <td>0.820896</td>\n",
       "      <td>0.741935</td>\n",
       "      <td>0.811765</td>\n",
       "      <td>0.683168</td>\n",
       "    </tr>\n",
       "    <tr>\n",
       "      <th>Naive Bayes</th>\n",
       "      <td>0.417910</td>\n",
       "      <td>0.559322</td>\n",
       "      <td>0.391304</td>\n",
       "      <td>0.980198</td>\n",
       "    </tr>\n",
       "    <tr>\n",
       "      <th>SVC</th>\n",
       "      <td>0.802239</td>\n",
       "      <td>0.690058</td>\n",
       "      <td>0.842857</td>\n",
       "      <td>0.584158</td>\n",
       "    </tr>\n",
       "    <tr>\n",
       "      <th>Logistic Regression</th>\n",
       "      <td>0.820896</td>\n",
       "      <td>0.755102</td>\n",
       "      <td>0.778947</td>\n",
       "      <td>0.732673</td>\n",
       "    </tr>\n",
       "  </tbody>\n",
       "</table>\n",
       "</div>"
      ],
      "text/plain": [
       "                     Accuracy  F1_score  Precision    Recall\n",
       "Decision Tree 3      0.794776  0.662577   0.870968  0.534653\n",
       "Decision Tree 5      0.798507  0.682353   0.840580  0.574257\n",
       "Decision Tree 8      0.820896  0.741935   0.811765  0.683168\n",
       "Naive Bayes          0.417910  0.559322   0.391304  0.980198\n",
       "SVC                  0.802239  0.690058   0.842857  0.584158\n",
       "Logistic Regression  0.820896  0.755102   0.778947  0.732673"
      ]
     },
     "execution_count": 41,
     "metadata": {},
     "output_type": "execute_result"
    }
   ],
   "source": [
    "data_regression = pd.concat([data_regression, train_data['Survived']], axis=1)\n",
    "base_learners_evaluation(data_regression, base_classifiers)"
   ]
  },
  {
   "cell_type": "code",
   "execution_count": 43,
   "metadata": {
    "colab": {
     "base_uri": "https://localhost:8080/",
     "height": 238
    },
    "id": "xVta9WCMVEqu",
    "outputId": "0c457e81-561f-4851-f0f9-b5e312988e5c"
   },
   "outputs": [
    {
     "data": {
      "text/html": [
       "<div>\n",
       "<style scoped>\n",
       "    .dataframe tbody tr th:only-of-type {\n",
       "        vertical-align: middle;\n",
       "    }\n",
       "\n",
       "    .dataframe tbody tr th {\n",
       "        vertical-align: top;\n",
       "    }\n",
       "\n",
       "    .dataframe thead th {\n",
       "        text-align: right;\n",
       "    }\n",
       "</style>\n",
       "<table border=\"1\" class=\"dataframe\">\n",
       "  <thead>\n",
       "    <tr style=\"text-align: right;\">\n",
       "      <th></th>\n",
       "      <th>PassengerId</th>\n",
       "      <th>Pclass</th>\n",
       "      <th>Name</th>\n",
       "      <th>Sex</th>\n",
       "      <th>Age</th>\n",
       "      <th>SibSp</th>\n",
       "      <th>Parch</th>\n",
       "      <th>Ticket</th>\n",
       "      <th>Fare</th>\n",
       "      <th>Cabin</th>\n",
       "      <th>Embarked</th>\n",
       "    </tr>\n",
       "  </thead>\n",
       "  <tbody>\n",
       "    <tr>\n",
       "      <th>0</th>\n",
       "      <td>892</td>\n",
       "      <td>3</td>\n",
       "      <td>Kelly, Mr. James</td>\n",
       "      <td>male</td>\n",
       "      <td>34.5</td>\n",
       "      <td>0</td>\n",
       "      <td>0</td>\n",
       "      <td>330911</td>\n",
       "      <td>7.8292</td>\n",
       "      <td>NaN</td>\n",
       "      <td>Q</td>\n",
       "    </tr>\n",
       "    <tr>\n",
       "      <th>1</th>\n",
       "      <td>893</td>\n",
       "      <td>3</td>\n",
       "      <td>Wilkes, Mrs. James (Ellen Needs)</td>\n",
       "      <td>female</td>\n",
       "      <td>47.0</td>\n",
       "      <td>1</td>\n",
       "      <td>0</td>\n",
       "      <td>363272</td>\n",
       "      <td>7.0000</td>\n",
       "      <td>NaN</td>\n",
       "      <td>S</td>\n",
       "    </tr>\n",
       "    <tr>\n",
       "      <th>2</th>\n",
       "      <td>894</td>\n",
       "      <td>2</td>\n",
       "      <td>Myles, Mr. Thomas Francis</td>\n",
       "      <td>male</td>\n",
       "      <td>62.0</td>\n",
       "      <td>0</td>\n",
       "      <td>0</td>\n",
       "      <td>240276</td>\n",
       "      <td>9.6875</td>\n",
       "      <td>NaN</td>\n",
       "      <td>Q</td>\n",
       "    </tr>\n",
       "    <tr>\n",
       "      <th>3</th>\n",
       "      <td>895</td>\n",
       "      <td>3</td>\n",
       "      <td>Wirz, Mr. Albert</td>\n",
       "      <td>male</td>\n",
       "      <td>27.0</td>\n",
       "      <td>0</td>\n",
       "      <td>0</td>\n",
       "      <td>315154</td>\n",
       "      <td>8.6625</td>\n",
       "      <td>NaN</td>\n",
       "      <td>S</td>\n",
       "    </tr>\n",
       "    <tr>\n",
       "      <th>4</th>\n",
       "      <td>896</td>\n",
       "      <td>3</td>\n",
       "      <td>Hirvonen, Mrs. Alexander (Helga E Lindqvist)</td>\n",
       "      <td>female</td>\n",
       "      <td>22.0</td>\n",
       "      <td>1</td>\n",
       "      <td>1</td>\n",
       "      <td>3101298</td>\n",
       "      <td>12.2875</td>\n",
       "      <td>NaN</td>\n",
       "      <td>S</td>\n",
       "    </tr>\n",
       "  </tbody>\n",
       "</table>\n",
       "</div>"
      ],
      "text/plain": [
       "   PassengerId  Pclass                                          Name     Sex  \\\n",
       "0          892       3                              Kelly, Mr. James    male   \n",
       "1          893       3              Wilkes, Mrs. James (Ellen Needs)  female   \n",
       "2          894       2                     Myles, Mr. Thomas Francis    male   \n",
       "3          895       3                              Wirz, Mr. Albert    male   \n",
       "4          896       3  Hirvonen, Mrs. Alexander (Helga E Lindqvist)  female   \n",
       "\n",
       "    Age  SibSp  Parch   Ticket     Fare Cabin Embarked  \n",
       "0  34.5      0      0   330911   7.8292   NaN        Q  \n",
       "1  47.0      1      0   363272   7.0000   NaN        S  \n",
       "2  62.0      0      0   240276   9.6875   NaN        Q  \n",
       "3  27.0      0      0   315154   8.6625   NaN        S  \n",
       "4  22.0      1      1  3101298  12.2875   NaN        S  "
      ]
     },
     "execution_count": 43,
     "metadata": {},
     "output_type": "execute_result"
    }
   ],
   "source": [
    "public_data = pd.read_csv('test.csv')\n",
    "PassengerId = public_data['PassengerId']\n",
    "public_data.head()"
   ]
  },
  {
   "cell_type": "code",
   "execution_count": 44,
   "metadata": {
    "id": "6Nl1NRiLw4nL"
   },
   "outputs": [],
   "source": [
    "public_data['Ticket_len'] = public_data.Ticket.apply(lambda x: len(x))\n",
    "public_data['Nmember'] = public_data['SibSp'] + public_data['Parch'] + 1\n",
    "public_data['Cabin'] = public_data['Cabin'].str.get(0)"
   ]
  },
  {
   "cell_type": "code",
   "execution_count": 45,
   "metadata": {
    "colab": {
     "base_uri": "https://localhost:8080/",
     "height": 428
    },
    "id": "fR1Flo6X6OKc",
    "outputId": "33704c20-c5ed-4a3a-a69a-aff22daabc60"
   },
   "outputs": [
    {
     "data": {
      "text/html": [
       "<div>\n",
       "<style scoped>\n",
       "    .dataframe tbody tr th:only-of-type {\n",
       "        vertical-align: middle;\n",
       "    }\n",
       "\n",
       "    .dataframe tbody tr th {\n",
       "        vertical-align: top;\n",
       "    }\n",
       "\n",
       "    .dataframe thead th {\n",
       "        text-align: right;\n",
       "    }\n",
       "</style>\n",
       "<table border=\"1\" class=\"dataframe\">\n",
       "  <thead>\n",
       "    <tr style=\"text-align: right;\">\n",
       "      <th></th>\n",
       "      <th>PassengerId</th>\n",
       "      <th>Pclass</th>\n",
       "      <th>Name</th>\n",
       "      <th>Sex</th>\n",
       "      <th>Age</th>\n",
       "      <th>SibSp</th>\n",
       "      <th>Parch</th>\n",
       "      <th>Ticket</th>\n",
       "      <th>Fare</th>\n",
       "      <th>Cabin</th>\n",
       "      <th>Embarked</th>\n",
       "      <th>Ticket_len</th>\n",
       "      <th>Nmember</th>\n",
       "    </tr>\n",
       "  </thead>\n",
       "  <tbody>\n",
       "    <tr>\n",
       "      <th>0</th>\n",
       "      <td>892</td>\n",
       "      <td>3</td>\n",
       "      <td>Kelly, Mr. James</td>\n",
       "      <td>male</td>\n",
       "      <td>34.5</td>\n",
       "      <td>0</td>\n",
       "      <td>0</td>\n",
       "      <td>330911</td>\n",
       "      <td>7.8292</td>\n",
       "      <td>NaN</td>\n",
       "      <td>Q</td>\n",
       "      <td>6</td>\n",
       "      <td>1</td>\n",
       "    </tr>\n",
       "    <tr>\n",
       "      <th>1</th>\n",
       "      <td>893</td>\n",
       "      <td>3</td>\n",
       "      <td>Wilkes, Mrs. James (Ellen Needs)</td>\n",
       "      <td>female</td>\n",
       "      <td>47.0</td>\n",
       "      <td>1</td>\n",
       "      <td>0</td>\n",
       "      <td>363272</td>\n",
       "      <td>7.0000</td>\n",
       "      <td>NaN</td>\n",
       "      <td>S</td>\n",
       "      <td>6</td>\n",
       "      <td>2</td>\n",
       "    </tr>\n",
       "    <tr>\n",
       "      <th>2</th>\n",
       "      <td>894</td>\n",
       "      <td>2</td>\n",
       "      <td>Myles, Mr. Thomas Francis</td>\n",
       "      <td>male</td>\n",
       "      <td>62.0</td>\n",
       "      <td>0</td>\n",
       "      <td>0</td>\n",
       "      <td>240276</td>\n",
       "      <td>9.6875</td>\n",
       "      <td>NaN</td>\n",
       "      <td>Q</td>\n",
       "      <td>6</td>\n",
       "      <td>1</td>\n",
       "    </tr>\n",
       "    <tr>\n",
       "      <th>3</th>\n",
       "      <td>895</td>\n",
       "      <td>3</td>\n",
       "      <td>Wirz, Mr. Albert</td>\n",
       "      <td>male</td>\n",
       "      <td>27.0</td>\n",
       "      <td>0</td>\n",
       "      <td>0</td>\n",
       "      <td>315154</td>\n",
       "      <td>8.6625</td>\n",
       "      <td>NaN</td>\n",
       "      <td>S</td>\n",
       "      <td>6</td>\n",
       "      <td>1</td>\n",
       "    </tr>\n",
       "    <tr>\n",
       "      <th>4</th>\n",
       "      <td>896</td>\n",
       "      <td>3</td>\n",
       "      <td>Hirvonen, Mrs. Alexander (Helga E Lindqvist)</td>\n",
       "      <td>female</td>\n",
       "      <td>22.0</td>\n",
       "      <td>1</td>\n",
       "      <td>1</td>\n",
       "      <td>3101298</td>\n",
       "      <td>12.2875</td>\n",
       "      <td>NaN</td>\n",
       "      <td>S</td>\n",
       "      <td>7</td>\n",
       "      <td>3</td>\n",
       "    </tr>\n",
       "  </tbody>\n",
       "</table>\n",
       "</div>"
      ],
      "text/plain": [
       "   PassengerId  Pclass                                          Name     Sex  \\\n",
       "0          892       3                              Kelly, Mr. James    male   \n",
       "1          893       3              Wilkes, Mrs. James (Ellen Needs)  female   \n",
       "2          894       2                     Myles, Mr. Thomas Francis    male   \n",
       "3          895       3                              Wirz, Mr. Albert    male   \n",
       "4          896       3  Hirvonen, Mrs. Alexander (Helga E Lindqvist)  female   \n",
       "\n",
       "    Age  SibSp  Parch   Ticket     Fare Cabin Embarked  Ticket_len  Nmember  \n",
       "0  34.5      0      0   330911   7.8292   NaN        Q           6        1  \n",
       "1  47.0      1      0   363272   7.0000   NaN        S           6        2  \n",
       "2  62.0      0      0   240276   9.6875   NaN        Q           6        1  \n",
       "3  27.0      0      0   315154   8.6625   NaN        S           6        1  \n",
       "4  22.0      1      1  3101298  12.2875   NaN        S           7        3  "
      ]
     },
     "execution_count": 45,
     "metadata": {},
     "output_type": "execute_result"
    }
   ],
   "source": [
    "public_data.head()"
   ]
  },
  {
   "cell_type": "code",
   "execution_count": 46,
   "metadata": {
    "id": "3d-Om-8hxkaL"
   },
   "outputs": [],
   "source": [
    "public_data.drop(columns=[ 'PassengerId', 'SibSp', 'Parch'], inplace=True)"
   ]
  },
  {
   "cell_type": "code",
   "execution_count": 47,
   "metadata": {
    "colab": {
     "base_uri": "https://localhost:8080/",
     "height": 224
    },
    "id": "LaOcFWtdWq8w",
    "outputId": "27a567cc-0a15-4f4b-a9f0-bf2a0c817d9d"
   },
   "outputs": [
    {
     "data": {
      "text/html": [
       "<div>\n",
       "<style scoped>\n",
       "    .dataframe tbody tr th:only-of-type {\n",
       "        vertical-align: middle;\n",
       "    }\n",
       "\n",
       "    .dataframe tbody tr th {\n",
       "        vertical-align: top;\n",
       "    }\n",
       "\n",
       "    .dataframe thead th {\n",
       "        text-align: right;\n",
       "    }\n",
       "</style>\n",
       "<table border=\"1\" class=\"dataframe\">\n",
       "  <thead>\n",
       "    <tr style=\"text-align: right;\">\n",
       "      <th></th>\n",
       "      <th>FareSex</th>\n",
       "      <th>AgeSex</th>\n",
       "      <th>nSex</th>\n",
       "      <th>AgeCa_0</th>\n",
       "      <th>AgeCa_1</th>\n",
       "      <th>AgeCa_2</th>\n",
       "      <th>AgeCa_3</th>\n",
       "      <th>AgeCa_4</th>\n",
       "      <th>FareCat_0</th>\n",
       "      <th>FareCat_1</th>\n",
       "      <th>...</th>\n",
       "      <th>Nmember_3</th>\n",
       "      <th>Nmember_4</th>\n",
       "      <th>Nmember_5</th>\n",
       "      <th>Nmember_6</th>\n",
       "      <th>Nmember_7</th>\n",
       "      <th>Nmember_8</th>\n",
       "      <th>Nmember_11</th>\n",
       "      <th>Pclass_1</th>\n",
       "      <th>Pclass_2</th>\n",
       "      <th>Pclass_3</th>\n",
       "    </tr>\n",
       "  </thead>\n",
       "  <tbody>\n",
       "    <tr>\n",
       "      <th>0</th>\n",
       "      <td>0</td>\n",
       "      <td>1</td>\n",
       "      <td>0</td>\n",
       "      <td>0</td>\n",
       "      <td>0</td>\n",
       "      <td>0</td>\n",
       "      <td>1</td>\n",
       "      <td>0</td>\n",
       "      <td>1</td>\n",
       "      <td>0</td>\n",
       "      <td>...</td>\n",
       "      <td>0</td>\n",
       "      <td>0</td>\n",
       "      <td>0</td>\n",
       "      <td>0</td>\n",
       "      <td>0</td>\n",
       "      <td>0</td>\n",
       "      <td>0</td>\n",
       "      <td>0</td>\n",
       "      <td>0</td>\n",
       "      <td>1</td>\n",
       "    </tr>\n",
       "    <tr>\n",
       "      <th>1</th>\n",
       "      <td>1</td>\n",
       "      <td>1</td>\n",
       "      <td>1</td>\n",
       "      <td>0</td>\n",
       "      <td>0</td>\n",
       "      <td>0</td>\n",
       "      <td>1</td>\n",
       "      <td>0</td>\n",
       "      <td>1</td>\n",
       "      <td>0</td>\n",
       "      <td>...</td>\n",
       "      <td>0</td>\n",
       "      <td>0</td>\n",
       "      <td>0</td>\n",
       "      <td>0</td>\n",
       "      <td>0</td>\n",
       "      <td>0</td>\n",
       "      <td>0</td>\n",
       "      <td>0</td>\n",
       "      <td>0</td>\n",
       "      <td>1</td>\n",
       "    </tr>\n",
       "    <tr>\n",
       "      <th>2</th>\n",
       "      <td>0</td>\n",
       "      <td>1</td>\n",
       "      <td>0</td>\n",
       "      <td>0</td>\n",
       "      <td>0</td>\n",
       "      <td>0</td>\n",
       "      <td>0</td>\n",
       "      <td>1</td>\n",
       "      <td>0</td>\n",
       "      <td>1</td>\n",
       "      <td>...</td>\n",
       "      <td>0</td>\n",
       "      <td>0</td>\n",
       "      <td>0</td>\n",
       "      <td>0</td>\n",
       "      <td>0</td>\n",
       "      <td>0</td>\n",
       "      <td>0</td>\n",
       "      <td>0</td>\n",
       "      <td>1</td>\n",
       "      <td>0</td>\n",
       "    </tr>\n",
       "    <tr>\n",
       "      <th>3</th>\n",
       "      <td>0</td>\n",
       "      <td>1</td>\n",
       "      <td>0</td>\n",
       "      <td>0</td>\n",
       "      <td>0</td>\n",
       "      <td>1</td>\n",
       "      <td>0</td>\n",
       "      <td>0</td>\n",
       "      <td>0</td>\n",
       "      <td>1</td>\n",
       "      <td>...</td>\n",
       "      <td>0</td>\n",
       "      <td>0</td>\n",
       "      <td>0</td>\n",
       "      <td>0</td>\n",
       "      <td>0</td>\n",
       "      <td>0</td>\n",
       "      <td>0</td>\n",
       "      <td>0</td>\n",
       "      <td>0</td>\n",
       "      <td>1</td>\n",
       "    </tr>\n",
       "    <tr>\n",
       "      <th>4</th>\n",
       "      <td>1</td>\n",
       "      <td>1</td>\n",
       "      <td>1</td>\n",
       "      <td>0</td>\n",
       "      <td>0</td>\n",
       "      <td>1</td>\n",
       "      <td>0</td>\n",
       "      <td>0</td>\n",
       "      <td>0</td>\n",
       "      <td>1</td>\n",
       "      <td>...</td>\n",
       "      <td>1</td>\n",
       "      <td>0</td>\n",
       "      <td>0</td>\n",
       "      <td>0</td>\n",
       "      <td>0</td>\n",
       "      <td>0</td>\n",
       "      <td>0</td>\n",
       "      <td>0</td>\n",
       "      <td>0</td>\n",
       "      <td>1</td>\n",
       "    </tr>\n",
       "  </tbody>\n",
       "</table>\n",
       "<p>5 rows × 37 columns</p>\n",
       "</div>"
      ],
      "text/plain": [
       "   FareSex  AgeSex  nSex  AgeCa_0  AgeCa_1  AgeCa_2  AgeCa_3  AgeCa_4  \\\n",
       "0        0       1     0        0        0        0        1        0   \n",
       "1        1       1     1        0        0        0        1        0   \n",
       "2        0       1     0        0        0        0        0        1   \n",
       "3        0       1     0        0        0        1        0        0   \n",
       "4        1       1     1        0        0        1        0        0   \n",
       "\n",
       "   FareCat_0  FareCat_1  ...  Nmember_3  Nmember_4  Nmember_5  Nmember_6  \\\n",
       "0          1          0  ...          0          0          0          0   \n",
       "1          1          0  ...          0          0          0          0   \n",
       "2          0          1  ...          0          0          0          0   \n",
       "3          0          1  ...          0          0          0          0   \n",
       "4          0          1  ...          1          0          0          0   \n",
       "\n",
       "   Nmember_7  Nmember_8  Nmember_11  Pclass_1  Pclass_2  Pclass_3  \n",
       "0          0          0           0         0         0         1  \n",
       "1          0          0           0         0         0         1  \n",
       "2          0          0           0         0         1         0  \n",
       "3          0          0           0         0         0         1  \n",
       "4          0          0           0         0         0         1  \n",
       "\n",
       "[5 rows x 37 columns]"
      ]
     },
     "execution_count": 47,
     "metadata": {},
     "output_type": "execute_result"
    }
   ],
   "source": [
    "X = transform_data(public_data)\n",
    "X.head()"
   ]
  },
  {
   "cell_type": "code",
   "execution_count": 48,
   "metadata": {
    "colab": {
     "base_uri": "https://localhost:8080/"
    },
    "id": "JSb5H43jIzU8",
    "outputId": "55023493-b724-4ba3-feb4-0873ecc413cb"
   },
   "outputs": [
    {
     "data": {
      "text/plain": [
       "(418, 37)"
      ]
     },
     "execution_count": 48,
     "metadata": {},
     "output_type": "execute_result"
    }
   ],
   "source": [
    "X.shape"
   ]
  },
  {
   "cell_type": "markdown",
   "metadata": {
    "id": "NYKq2bH5hHv4"
   },
   "source": [
    "# Training by ensemble model"
   ]
  },
  {
   "cell_type": "code",
   "execution_count": 49,
   "metadata": {
    "id": "TqmUr3DveMR0"
   },
   "outputs": [],
   "source": [
    "def ensemble_evaluation(data, model, label='Original'):\n",
    "  '''This function show score with Original data or Filtered data.'''\n",
    "  X_train, X_test, y_train, y_test = split_data(data)\n",
    "  model.fit(X_train, y_train)\n",
    "  prediction = model.predict(X_test)\n",
    "\n",
    "  return pd.DataFrame({'Accuracy' : [accuracy_score(y_test, prediction)],\n",
    "                       'F1_score' : [f1_score(y_test, prediction)],\n",
    "                       'precision' : [precision_score(y_test, prediction)],\n",
    "                       'Recall' : [recall_score(y_test, prediction)]}, index=[label])"
   ]
  },
  {
   "cell_type": "code",
   "execution_count": 50,
   "metadata": {
    "id": "6j6aNArFgCaP"
   },
   "outputs": [],
   "source": [
    "from sklearn.ensemble import VotingClassifier\n",
    "\n",
    "models_comparison = {}\n",
    "\n",
    "ensemble = VotingClassifier(base_classifiers)     \n",
    "\n",
    "ensemble_data_origin = ensemble_evaluation(train_data, ensemble, label='Original')\n",
    "ensemble_data_filtered = ensemble_evaluation(data_corr, ensemble, label='Filtered')\n",
    "\n",
    "models_comparison['Voting'] = pd.concat([ensemble_data_origin, ensemble_data_filtered], axis=0)"
   ]
  },
  {
   "cell_type": "code",
   "execution_count": 51,
   "metadata": {
    "colab": {
     "base_uri": "https://localhost:8080/",
     "height": 111
    },
    "id": "92HOPWtrhCda",
    "outputId": "b76681f1-0469-442a-f26d-21b2bc855755"
   },
   "outputs": [
    {
     "data": {
      "text/html": [
       "<div>\n",
       "<style scoped>\n",
       "    .dataframe tbody tr th:only-of-type {\n",
       "        vertical-align: middle;\n",
       "    }\n",
       "\n",
       "    .dataframe tbody tr th {\n",
       "        vertical-align: top;\n",
       "    }\n",
       "\n",
       "    .dataframe thead th {\n",
       "        text-align: right;\n",
       "    }\n",
       "</style>\n",
       "<table border=\"1\" class=\"dataframe\">\n",
       "  <thead>\n",
       "    <tr style=\"text-align: right;\">\n",
       "      <th></th>\n",
       "      <th>Accuracy</th>\n",
       "      <th>F1_score</th>\n",
       "      <th>precision</th>\n",
       "      <th>Recall</th>\n",
       "    </tr>\n",
       "  </thead>\n",
       "  <tbody>\n",
       "    <tr>\n",
       "      <th>Original</th>\n",
       "      <td>0.802239</td>\n",
       "      <td>0.690058</td>\n",
       "      <td>0.842857</td>\n",
       "      <td>0.584158</td>\n",
       "    </tr>\n",
       "    <tr>\n",
       "      <th>Filtered</th>\n",
       "      <td>0.805970</td>\n",
       "      <td>0.690476</td>\n",
       "      <td>0.865672</td>\n",
       "      <td>0.574257</td>\n",
       "    </tr>\n",
       "  </tbody>\n",
       "</table>\n",
       "</div>"
      ],
      "text/plain": [
       "          Accuracy  F1_score  precision    Recall\n",
       "Original  0.802239  0.690058   0.842857  0.584158\n",
       "Filtered  0.805970  0.690476   0.865672  0.574257"
      ]
     },
     "execution_count": 51,
     "metadata": {},
     "output_type": "execute_result"
    }
   ],
   "source": [
    "models_comparison['Voting']"
   ]
  },
  {
   "cell_type": "code",
   "execution_count": 52,
   "metadata": {
    "id": "eM5VrYrFhSDJ"
   },
   "outputs": [],
   "source": [
    "from sklearn.ensemble import BaggingClassifier\n",
    "\n",
    "ensemble = BaggingClassifier(n_estimators=10,\n",
    "                             base_estimator=DecisionTreeClassifier(max_depth=5))\n",
    "\n",
    "ensemble_data_origin = ensemble_evaluation(train_data, ensemble, label='Original')\n",
    "ensemble_data_filtered = ensemble_evaluation(data_corr, ensemble, label='Filtered')\n",
    "models_comparison['Bagging'] = pd.concat([ensemble_data_origin, ensemble_data_filtered], axis=0)"
   ]
  },
  {
   "cell_type": "code",
   "execution_count": 53,
   "metadata": {
    "colab": {
     "base_uri": "https://localhost:8080/",
     "height": 111
    },
    "id": "ZsfYso34hj4s",
    "outputId": "614871fd-97f9-453b-db98-43b1ef97b05e"
   },
   "outputs": [
    {
     "data": {
      "text/html": [
       "<div>\n",
       "<style scoped>\n",
       "    .dataframe tbody tr th:only-of-type {\n",
       "        vertical-align: middle;\n",
       "    }\n",
       "\n",
       "    .dataframe tbody tr th {\n",
       "        vertical-align: top;\n",
       "    }\n",
       "\n",
       "    .dataframe thead th {\n",
       "        text-align: right;\n",
       "    }\n",
       "</style>\n",
       "<table border=\"1\" class=\"dataframe\">\n",
       "  <thead>\n",
       "    <tr style=\"text-align: right;\">\n",
       "      <th></th>\n",
       "      <th>Accuracy</th>\n",
       "      <th>F1_score</th>\n",
       "      <th>precision</th>\n",
       "      <th>Recall</th>\n",
       "    </tr>\n",
       "  </thead>\n",
       "  <tbody>\n",
       "    <tr>\n",
       "      <th>Original</th>\n",
       "      <td>0.805970</td>\n",
       "      <td>0.686747</td>\n",
       "      <td>0.876923</td>\n",
       "      <td>0.564356</td>\n",
       "    </tr>\n",
       "    <tr>\n",
       "      <th>Filtered</th>\n",
       "      <td>0.817164</td>\n",
       "      <td>0.720000</td>\n",
       "      <td>0.851351</td>\n",
       "      <td>0.623762</td>\n",
       "    </tr>\n",
       "  </tbody>\n",
       "</table>\n",
       "</div>"
      ],
      "text/plain": [
       "          Accuracy  F1_score  precision    Recall\n",
       "Original  0.805970  0.686747   0.876923  0.564356\n",
       "Filtered  0.817164  0.720000   0.851351  0.623762"
      ]
     },
     "execution_count": 53,
     "metadata": {},
     "output_type": "execute_result"
    }
   ],
   "source": [
    "models_comparison['Bagging']"
   ]
  },
  {
   "cell_type": "code",
   "execution_count": 54,
   "metadata": {
    "id": "GYKdlOBdhmuB"
   },
   "outputs": [],
   "source": [
    "from sklearn.ensemble import AdaBoostClassifier\n",
    "\n",
    "ensemble = AdaBoostClassifier(n_estimators=365)\n",
    "\n",
    "ensemble_data_origin = ensemble_evaluation(train_data, ensemble, label='Original')\n",
    "ensemble_data_filtered = ensemble_evaluation(data_chi2, ensemble, label='Filtered')\n",
    "models_comparison['AdaBoost'] = pd.concat([ensemble_data_origin, ensemble_data_filtered], axis=0)"
   ]
  },
  {
   "cell_type": "code",
   "execution_count": 55,
   "metadata": {
    "colab": {
     "base_uri": "https://localhost:8080/",
     "height": 111
    },
    "id": "ZQ-tgNl7h3xU",
    "outputId": "c363eba8-9007-4853-8eaf-236ec8e76daf"
   },
   "outputs": [
    {
     "data": {
      "text/html": [
       "<div>\n",
       "<style scoped>\n",
       "    .dataframe tbody tr th:only-of-type {\n",
       "        vertical-align: middle;\n",
       "    }\n",
       "\n",
       "    .dataframe tbody tr th {\n",
       "        vertical-align: top;\n",
       "    }\n",
       "\n",
       "    .dataframe thead th {\n",
       "        text-align: right;\n",
       "    }\n",
       "</style>\n",
       "<table border=\"1\" class=\"dataframe\">\n",
       "  <thead>\n",
       "    <tr style=\"text-align: right;\">\n",
       "      <th></th>\n",
       "      <th>Accuracy</th>\n",
       "      <th>F1_score</th>\n",
       "      <th>precision</th>\n",
       "      <th>Recall</th>\n",
       "    </tr>\n",
       "  </thead>\n",
       "  <tbody>\n",
       "    <tr>\n",
       "      <th>Original</th>\n",
       "      <td>0.813433</td>\n",
       "      <td>0.744898</td>\n",
       "      <td>0.768421</td>\n",
       "      <td>0.722772</td>\n",
       "    </tr>\n",
       "    <tr>\n",
       "      <th>Filtered</th>\n",
       "      <td>0.828358</td>\n",
       "      <td>0.767677</td>\n",
       "      <td>0.783505</td>\n",
       "      <td>0.752475</td>\n",
       "    </tr>\n",
       "  </tbody>\n",
       "</table>\n",
       "</div>"
      ],
      "text/plain": [
       "          Accuracy  F1_score  precision    Recall\n",
       "Original  0.813433  0.744898   0.768421  0.722772\n",
       "Filtered  0.828358  0.767677   0.783505  0.752475"
      ]
     },
     "execution_count": 55,
     "metadata": {},
     "output_type": "execute_result"
    }
   ],
   "source": [
    "models_comparison['AdaBoost']"
   ]
  },
  {
   "cell_type": "code",
   "execution_count": 56,
   "metadata": {
    "id": "z0-OAM0Ph6yW"
   },
   "outputs": [],
   "source": [
    "from sklearn.ensemble import RandomForestClassifier\n",
    "\n",
    "ensemble = RandomForestClassifier(n_estimators=500, max_depth=5, criterion=\"entropy\", n_jobs=-1)\n",
    "\n",
    "ensemble_data_origin = ensemble_evaluation(train_data, ensemble, label='Original')\n",
    "ensemble_data_filtered = ensemble_evaluation(data_corr, ensemble, label='Filtered')\n",
    "models_comparison['RandomForest'] = pd.concat([ensemble_data_origin, ensemble_data_filtered], axis=0)"
   ]
  },
  {
   "cell_type": "code",
   "execution_count": 57,
   "metadata": {
    "colab": {
     "base_uri": "https://localhost:8080/",
     "height": 111
    },
    "id": "RsnqNzG9iQz1",
    "outputId": "93a7d192-8d49-4b2a-d719-4328bd9e2f7e"
   },
   "outputs": [
    {
     "data": {
      "text/html": [
       "<div>\n",
       "<style scoped>\n",
       "    .dataframe tbody tr th:only-of-type {\n",
       "        vertical-align: middle;\n",
       "    }\n",
       "\n",
       "    .dataframe tbody tr th {\n",
       "        vertical-align: top;\n",
       "    }\n",
       "\n",
       "    .dataframe thead th {\n",
       "        text-align: right;\n",
       "    }\n",
       "</style>\n",
       "<table border=\"1\" class=\"dataframe\">\n",
       "  <thead>\n",
       "    <tr style=\"text-align: right;\">\n",
       "      <th></th>\n",
       "      <th>Accuracy</th>\n",
       "      <th>F1_score</th>\n",
       "      <th>precision</th>\n",
       "      <th>Recall</th>\n",
       "    </tr>\n",
       "  </thead>\n",
       "  <tbody>\n",
       "    <tr>\n",
       "      <th>Original</th>\n",
       "      <td>0.813433</td>\n",
       "      <td>0.695122</td>\n",
       "      <td>0.904762</td>\n",
       "      <td>0.564356</td>\n",
       "    </tr>\n",
       "    <tr>\n",
       "      <th>Filtered</th>\n",
       "      <td>0.802239</td>\n",
       "      <td>0.682635</td>\n",
       "      <td>0.863636</td>\n",
       "      <td>0.564356</td>\n",
       "    </tr>\n",
       "  </tbody>\n",
       "</table>\n",
       "</div>"
      ],
      "text/plain": [
       "          Accuracy  F1_score  precision    Recall\n",
       "Original  0.813433  0.695122   0.904762  0.564356\n",
       "Filtered  0.802239  0.682635   0.863636  0.564356"
      ]
     },
     "execution_count": 57,
     "metadata": {},
     "output_type": "execute_result"
    }
   ],
   "source": [
    "models_comparison['RandomForest']"
   ]
  },
  {
   "cell_type": "code",
   "execution_count": 72,
   "metadata": {
    "id": "xZTn9L4QiTRk"
   },
   "outputs": [
    {
     "name": "stdout",
     "output_type": "stream",
     "text": [
      "[22:09:33] WARNING: ../src/learner.cc:1095: Starting in XGBoost 1.3.0, the default evaluation metric used with the objective 'binary:logistic' was changed from 'error' to 'logloss'. Explicitly set eval_metric if you'd like to restore the old behavior.\n",
      "[22:09:33] WARNING: ../src/learner.cc:1095: Starting in XGBoost 1.3.0, the default evaluation metric used with the objective 'binary:logistic' was changed from 'error' to 'logloss'. Explicitly set eval_metric if you'd like to restore the old behavior.\n"
     ]
    },
    {
     "name": "stderr",
     "output_type": "stream",
     "text": [
      "/home/quyanh/.local/lib/python3.8/site-packages/xgboost/sklearn.py:1146: UserWarning: The use of label encoder in XGBClassifier is deprecated and will be removed in a future release. To remove this warning, do the following: 1) Pass option use_label_encoder=False when constructing XGBClassifier object; and 2) Encode your labels (y) as integers starting with 0, i.e. 0, 1, 2, ..., [num_class - 1].\n",
      "  warnings.warn(label_encoder_deprecation_msg, UserWarning)\n",
      "/home/quyanh/.local/lib/python3.8/site-packages/xgboost/sklearn.py:1146: UserWarning: The use of label encoder in XGBClassifier is deprecated and will be removed in a future release. To remove this warning, do the following: 1) Pass option use_label_encoder=False when constructing XGBClassifier object; and 2) Encode your labels (y) as integers starting with 0, i.e. 0, 1, 2, ..., [num_class - 1].\n",
      "  warnings.warn(label_encoder_deprecation_msg, UserWarning)\n"
     ]
    }
   ],
   "source": [
    "from xgboost import XGBClassifier\n",
    "\n",
    "ensemble = XGBClassifier()\n",
    "\n",
    "ensemble_data_origin = ensemble_evaluation(train_data, ensemble, label='Original')\n",
    "ensemble_data_filtered = ensemble_evaluation(data_corr, ensemble, label='Filtered')\n",
    "models_comparison['XGBClassifier'] = pd.concat([ensemble_data_origin, ensemble_data_filtered], axis=0)"
   ]
  },
  {
   "cell_type": "code",
   "execution_count": 73,
   "metadata": {
    "colab": {
     "base_uri": "https://localhost:8080/",
     "height": 111
    },
    "id": "jmLZa82ciikt",
    "outputId": "89972f9b-0ffa-4720-90c1-bac91666eb36"
   },
   "outputs": [
    {
     "data": {
      "text/html": [
       "<div>\n",
       "<style scoped>\n",
       "    .dataframe tbody tr th:only-of-type {\n",
       "        vertical-align: middle;\n",
       "    }\n",
       "\n",
       "    .dataframe tbody tr th {\n",
       "        vertical-align: top;\n",
       "    }\n",
       "\n",
       "    .dataframe thead th {\n",
       "        text-align: right;\n",
       "    }\n",
       "</style>\n",
       "<table border=\"1\" class=\"dataframe\">\n",
       "  <thead>\n",
       "    <tr style=\"text-align: right;\">\n",
       "      <th></th>\n",
       "      <th>Accuracy</th>\n",
       "      <th>F1_score</th>\n",
       "      <th>precision</th>\n",
       "      <th>Recall</th>\n",
       "    </tr>\n",
       "  </thead>\n",
       "  <tbody>\n",
       "    <tr>\n",
       "      <th>Original</th>\n",
       "      <td>0.791045</td>\n",
       "      <td>0.714286</td>\n",
       "      <td>0.736842</td>\n",
       "      <td>0.693069</td>\n",
       "    </tr>\n",
       "    <tr>\n",
       "      <th>Filtered</th>\n",
       "      <td>0.783582</td>\n",
       "      <td>0.684783</td>\n",
       "      <td>0.759036</td>\n",
       "      <td>0.623762</td>\n",
       "    </tr>\n",
       "  </tbody>\n",
       "</table>\n",
       "</div>"
      ],
      "text/plain": [
       "          Accuracy  F1_score  precision    Recall\n",
       "Original  0.791045  0.714286   0.736842  0.693069\n",
       "Filtered  0.783582  0.684783   0.759036  0.623762"
      ]
     },
     "execution_count": 73,
     "metadata": {},
     "output_type": "execute_result"
    }
   ],
   "source": [
    "models_comparison['XGBClassifier']"
   ]
  },
  {
   "cell_type": "code",
   "execution_count": 74,
   "metadata": {
    "id": "4sUsnNBbVaol"
   },
   "outputs": [],
   "source": [
    "from lightgbm import LGBMClassifier\n",
    "\n",
    "ensemble = LGBMClassifier()\n",
    "\n",
    "ensemble_data_origin = ensemble_evaluation(train_data, ensemble, label='Original')\n",
    "ensemble_data_filtered = ensemble_evaluation(data_corr, ensemble, label='Filtered')\n",
    "models_comparison['LGBMClassifier'] = pd.concat([ensemble_data_origin, ensemble_data_filtered], axis=0)"
   ]
  },
  {
   "cell_type": "code",
   "execution_count": 75,
   "metadata": {
    "colab": {
     "base_uri": "https://localhost:8080/",
     "height": 111
    },
    "id": "ap-wYoW0WCXJ",
    "outputId": "6a06af5a-da0e-4698-d2df-48f3b2b625f7"
   },
   "outputs": [
    {
     "data": {
      "text/html": [
       "<div>\n",
       "<style scoped>\n",
       "    .dataframe tbody tr th:only-of-type {\n",
       "        vertical-align: middle;\n",
       "    }\n",
       "\n",
       "    .dataframe tbody tr th {\n",
       "        vertical-align: top;\n",
       "    }\n",
       "\n",
       "    .dataframe thead th {\n",
       "        text-align: right;\n",
       "    }\n",
       "</style>\n",
       "<table border=\"1\" class=\"dataframe\">\n",
       "  <thead>\n",
       "    <tr style=\"text-align: right;\">\n",
       "      <th></th>\n",
       "      <th>Accuracy</th>\n",
       "      <th>F1_score</th>\n",
       "      <th>precision</th>\n",
       "      <th>Recall</th>\n",
       "    </tr>\n",
       "  </thead>\n",
       "  <tbody>\n",
       "    <tr>\n",
       "      <th>Original</th>\n",
       "      <td>0.813433</td>\n",
       "      <td>0.731183</td>\n",
       "      <td>0.800000</td>\n",
       "      <td>0.673267</td>\n",
       "    </tr>\n",
       "    <tr>\n",
       "      <th>Filtered</th>\n",
       "      <td>0.809701</td>\n",
       "      <td>0.727273</td>\n",
       "      <td>0.790698</td>\n",
       "      <td>0.673267</td>\n",
       "    </tr>\n",
       "  </tbody>\n",
       "</table>\n",
       "</div>"
      ],
      "text/plain": [
       "          Accuracy  F1_score  precision    Recall\n",
       "Original  0.813433  0.731183   0.800000  0.673267\n",
       "Filtered  0.809701  0.727273   0.790698  0.673267"
      ]
     },
     "execution_count": 75,
     "metadata": {},
     "output_type": "execute_result"
    }
   ],
   "source": [
    "models_comparison['LGBMClassifier']"
   ]
  },
  {
   "cell_type": "code",
   "execution_count": 76,
   "metadata": {
    "id": "5Xn0SUX3WfQc"
   },
   "outputs": [],
   "source": [
    "# !pip install catboost\n",
    "# import catboost \n",
    "# from catboost import CatBoostClassifier\n",
    "# np.random.seed(42)\n",
    "\n",
    "# ensemble = CatBoostClassifier()\n",
    "# ensemble_data_origin = ensemble_evaluation(train_data, ensemble, label='Original')\n",
    "# ensemble_data_filtered = ensemble_evaluation(data_corr, ensemble, label='Filtered')\n",
    "# models_comparison['CatBoostClf'] = pd.concat([ensemble_data_origin, ensemble_data_filtered], axis=0)\n",
    "# models_comparison['CatBoostClf']"
   ]
  },
  {
   "cell_type": "markdown",
   "metadata": {
    "id": "_asIX9b094Uy"
   },
   "source": [
    "***In general, models above is not good model for public data. Finally, i will use pipeline model for this problem***"
   ]
  },
  {
   "cell_type": "markdown",
   "metadata": {
    "id": "T1x_ahyN9poW"
   },
   "source": [
    "# Use Pipeline for prediction"
   ]
  },
  {
   "cell_type": "code",
   "execution_count": 77,
   "metadata": {
    "colab": {
     "base_uri": "https://localhost:8080/",
     "height": 496
    },
    "id": "yNbh_kWS1bJX",
    "outputId": "4ebd5868-c105-44e2-b6ba-06fe10b20625"
   },
   "outputs": [
    {
     "data": {
      "text/html": [
       "<div>\n",
       "<style scoped>\n",
       "    .dataframe tbody tr th:only-of-type {\n",
       "        vertical-align: middle;\n",
       "    }\n",
       "\n",
       "    .dataframe tbody tr th {\n",
       "        vertical-align: top;\n",
       "    }\n",
       "\n",
       "    .dataframe thead th {\n",
       "        text-align: right;\n",
       "    }\n",
       "</style>\n",
       "<table border=\"1\" class=\"dataframe\">\n",
       "  <thead>\n",
       "    <tr style=\"text-align: right;\">\n",
       "      <th></th>\n",
       "      <th>PassengerId</th>\n",
       "      <th>Survived</th>\n",
       "      <th>Pclass</th>\n",
       "      <th>Name</th>\n",
       "      <th>Sex</th>\n",
       "      <th>Age</th>\n",
       "      <th>Ticket</th>\n",
       "      <th>Fare</th>\n",
       "      <th>Cabin</th>\n",
       "      <th>Embarked</th>\n",
       "      <th>Nmember</th>\n",
       "      <th>Ticket_len</th>\n",
       "      <th>nSex</th>\n",
       "      <th>AgeCa</th>\n",
       "      <th>Title</th>\n",
       "      <th>Ticket_lett</th>\n",
       "    </tr>\n",
       "  </thead>\n",
       "  <tbody>\n",
       "    <tr>\n",
       "      <th>0</th>\n",
       "      <td>1</td>\n",
       "      <td>0</td>\n",
       "      <td>3</td>\n",
       "      <td>Braund, Mr. Owen Harris</td>\n",
       "      <td>male</td>\n",
       "      <td>22.0</td>\n",
       "      <td>A/5 21171</td>\n",
       "      <td>7.2500</td>\n",
       "      <td>NaN</td>\n",
       "      <td>S</td>\n",
       "      <td>2</td>\n",
       "      <td>9</td>\n",
       "      <td>0</td>\n",
       "      <td>2</td>\n",
       "      <td>Mr</td>\n",
       "      <td>A/</td>\n",
       "    </tr>\n",
       "    <tr>\n",
       "      <th>1</th>\n",
       "      <td>2</td>\n",
       "      <td>1</td>\n",
       "      <td>1</td>\n",
       "      <td>Cumings, Mrs. John Bradley (Florence Briggs Th...</td>\n",
       "      <td>female</td>\n",
       "      <td>38.0</td>\n",
       "      <td>PC 17599</td>\n",
       "      <td>71.2833</td>\n",
       "      <td>C</td>\n",
       "      <td>C</td>\n",
       "      <td>2</td>\n",
       "      <td>8</td>\n",
       "      <td>1</td>\n",
       "      <td>3</td>\n",
       "      <td>Mrs</td>\n",
       "      <td>PC</td>\n",
       "    </tr>\n",
       "    <tr>\n",
       "      <th>2</th>\n",
       "      <td>3</td>\n",
       "      <td>1</td>\n",
       "      <td>3</td>\n",
       "      <td>Heikkinen, Miss. Laina</td>\n",
       "      <td>female</td>\n",
       "      <td>26.0</td>\n",
       "      <td>STON/O2. 3101282</td>\n",
       "      <td>7.9250</td>\n",
       "      <td>NaN</td>\n",
       "      <td>S</td>\n",
       "      <td>1</td>\n",
       "      <td>16</td>\n",
       "      <td>1</td>\n",
       "      <td>2</td>\n",
       "      <td>Miss</td>\n",
       "      <td>ST</td>\n",
       "    </tr>\n",
       "    <tr>\n",
       "      <th>3</th>\n",
       "      <td>4</td>\n",
       "      <td>1</td>\n",
       "      <td>1</td>\n",
       "      <td>Futrelle, Mrs. Jacques Heath (Lily May Peel)</td>\n",
       "      <td>female</td>\n",
       "      <td>35.0</td>\n",
       "      <td>113803</td>\n",
       "      <td>53.1000</td>\n",
       "      <td>C</td>\n",
       "      <td>S</td>\n",
       "      <td>2</td>\n",
       "      <td>6</td>\n",
       "      <td>1</td>\n",
       "      <td>3</td>\n",
       "      <td>Mrs</td>\n",
       "      <td>11</td>\n",
       "    </tr>\n",
       "    <tr>\n",
       "      <th>4</th>\n",
       "      <td>5</td>\n",
       "      <td>0</td>\n",
       "      <td>3</td>\n",
       "      <td>Allen, Mr. William Henry</td>\n",
       "      <td>male</td>\n",
       "      <td>35.0</td>\n",
       "      <td>373450</td>\n",
       "      <td>8.0500</td>\n",
       "      <td>NaN</td>\n",
       "      <td>S</td>\n",
       "      <td>1</td>\n",
       "      <td>6</td>\n",
       "      <td>0</td>\n",
       "      <td>3</td>\n",
       "      <td>Mr</td>\n",
       "      <td>37</td>\n",
       "    </tr>\n",
       "  </tbody>\n",
       "</table>\n",
       "</div>"
      ],
      "text/plain": [
       "   PassengerId  Survived  Pclass  \\\n",
       "0            1         0       3   \n",
       "1            2         1       1   \n",
       "2            3         1       3   \n",
       "3            4         1       1   \n",
       "4            5         0       3   \n",
       "\n",
       "                                                Name     Sex   Age  \\\n",
       "0                            Braund, Mr. Owen Harris    male  22.0   \n",
       "1  Cumings, Mrs. John Bradley (Florence Briggs Th...  female  38.0   \n",
       "2                             Heikkinen, Miss. Laina  female  26.0   \n",
       "3       Futrelle, Mrs. Jacques Heath (Lily May Peel)  female  35.0   \n",
       "4                           Allen, Mr. William Henry    male  35.0   \n",
       "\n",
       "             Ticket     Fare Cabin Embarked  Nmember  Ticket_len  nSex  AgeCa  \\\n",
       "0         A/5 21171   7.2500   NaN        S        2           9     0      2   \n",
       "1          PC 17599  71.2833     C        C        2           8     1      3   \n",
       "2  STON/O2. 3101282   7.9250   NaN        S        1          16     1      2   \n",
       "3            113803  53.1000     C        S        2           6     1      3   \n",
       "4            373450   8.0500   NaN        S        1           6     0      3   \n",
       "\n",
       "  Title Ticket_lett  \n",
       "0    Mr          A/  \n",
       "1   Mrs          PC  \n",
       "2  Miss          ST  \n",
       "3   Mrs          11  \n",
       "4    Mr          37  "
      ]
     },
     "execution_count": 77,
     "metadata": {},
     "output_type": "execute_result"
    }
   ],
   "source": [
    "train.head()"
   ]
  },
  {
   "cell_type": "code",
   "execution_count": 78,
   "metadata": {
    "colab": {
     "base_uri": "https://localhost:8080/",
     "height": 272
    },
    "id": "lsFew_dI2Q3h",
    "outputId": "a1b6c698-1d0a-4529-daba-0e0b820e6528"
   },
   "outputs": [
    {
     "data": {
      "text/html": [
       "<div>\n",
       "<style scoped>\n",
       "    .dataframe tbody tr th:only-of-type {\n",
       "        vertical-align: middle;\n",
       "    }\n",
       "\n",
       "    .dataframe tbody tr th {\n",
       "        vertical-align: top;\n",
       "    }\n",
       "\n",
       "    .dataframe thead th {\n",
       "        text-align: right;\n",
       "    }\n",
       "</style>\n",
       "<table border=\"1\" class=\"dataframe\">\n",
       "  <thead>\n",
       "    <tr style=\"text-align: right;\">\n",
       "      <th></th>\n",
       "      <th>Pclass</th>\n",
       "      <th>Name</th>\n",
       "      <th>Sex</th>\n",
       "      <th>Age</th>\n",
       "      <th>Ticket</th>\n",
       "      <th>Fare</th>\n",
       "      <th>Cabin</th>\n",
       "      <th>Embarked</th>\n",
       "      <th>Ticket_len</th>\n",
       "      <th>Nmember</th>\n",
       "      <th>nSex</th>\n",
       "      <th>AgeCa</th>\n",
       "      <th>Title</th>\n",
       "      <th>Ticket_lett</th>\n",
       "    </tr>\n",
       "  </thead>\n",
       "  <tbody>\n",
       "    <tr>\n",
       "      <th>0</th>\n",
       "      <td>3</td>\n",
       "      <td>Kelly, Mr. James</td>\n",
       "      <td>male</td>\n",
       "      <td>34.5</td>\n",
       "      <td>330911</td>\n",
       "      <td>7.8292</td>\n",
       "      <td>NaN</td>\n",
       "      <td>Q</td>\n",
       "      <td>6</td>\n",
       "      <td>1</td>\n",
       "      <td>0</td>\n",
       "      <td>3</td>\n",
       "      <td>Mr</td>\n",
       "      <td>33</td>\n",
       "    </tr>\n",
       "    <tr>\n",
       "      <th>1</th>\n",
       "      <td>3</td>\n",
       "      <td>Wilkes, Mrs. James (Ellen Needs)</td>\n",
       "      <td>female</td>\n",
       "      <td>47.0</td>\n",
       "      <td>363272</td>\n",
       "      <td>7.0000</td>\n",
       "      <td>NaN</td>\n",
       "      <td>S</td>\n",
       "      <td>6</td>\n",
       "      <td>2</td>\n",
       "      <td>1</td>\n",
       "      <td>3</td>\n",
       "      <td>Mrs</td>\n",
       "      <td>36</td>\n",
       "    </tr>\n",
       "    <tr>\n",
       "      <th>2</th>\n",
       "      <td>2</td>\n",
       "      <td>Myles, Mr. Thomas Francis</td>\n",
       "      <td>male</td>\n",
       "      <td>62.0</td>\n",
       "      <td>240276</td>\n",
       "      <td>9.6875</td>\n",
       "      <td>NaN</td>\n",
       "      <td>Q</td>\n",
       "      <td>6</td>\n",
       "      <td>1</td>\n",
       "      <td>0</td>\n",
       "      <td>4</td>\n",
       "      <td>Mr</td>\n",
       "      <td>24</td>\n",
       "    </tr>\n",
       "    <tr>\n",
       "      <th>3</th>\n",
       "      <td>3</td>\n",
       "      <td>Wirz, Mr. Albert</td>\n",
       "      <td>male</td>\n",
       "      <td>27.0</td>\n",
       "      <td>315154</td>\n",
       "      <td>8.6625</td>\n",
       "      <td>NaN</td>\n",
       "      <td>S</td>\n",
       "      <td>6</td>\n",
       "      <td>1</td>\n",
       "      <td>0</td>\n",
       "      <td>2</td>\n",
       "      <td>Mr</td>\n",
       "      <td>31</td>\n",
       "    </tr>\n",
       "    <tr>\n",
       "      <th>4</th>\n",
       "      <td>3</td>\n",
       "      <td>Hirvonen, Mrs. Alexander (Helga E Lindqvist)</td>\n",
       "      <td>female</td>\n",
       "      <td>22.0</td>\n",
       "      <td>3101298</td>\n",
       "      <td>12.2875</td>\n",
       "      <td>NaN</td>\n",
       "      <td>S</td>\n",
       "      <td>7</td>\n",
       "      <td>3</td>\n",
       "      <td>1</td>\n",
       "      <td>2</td>\n",
       "      <td>Mrs</td>\n",
       "      <td>31</td>\n",
       "    </tr>\n",
       "  </tbody>\n",
       "</table>\n",
       "</div>"
      ],
      "text/plain": [
       "   Pclass                                          Name     Sex   Age  \\\n",
       "0       3                              Kelly, Mr. James    male  34.5   \n",
       "1       3              Wilkes, Mrs. James (Ellen Needs)  female  47.0   \n",
       "2       2                     Myles, Mr. Thomas Francis    male  62.0   \n",
       "3       3                              Wirz, Mr. Albert    male  27.0   \n",
       "4       3  Hirvonen, Mrs. Alexander (Helga E Lindqvist)  female  22.0   \n",
       "\n",
       "    Ticket     Fare Cabin Embarked  Ticket_len  Nmember  nSex  AgeCa Title  \\\n",
       "0   330911   7.8292   NaN        Q           6        1     0      3    Mr   \n",
       "1   363272   7.0000   NaN        S           6        2     1      3   Mrs   \n",
       "2   240276   9.6875   NaN        Q           6        1     0      4    Mr   \n",
       "3   315154   8.6625   NaN        S           6        1     0      2    Mr   \n",
       "4  3101298  12.2875   NaN        S           7        3     1      2   Mrs   \n",
       "\n",
       "  Ticket_lett  \n",
       "0          33  \n",
       "1          36  \n",
       "2          24  \n",
       "3          31  \n",
       "4          31  "
      ]
     },
     "execution_count": 78,
     "metadata": {},
     "output_type": "execute_result"
    }
   ],
   "source": [
    "public_data.head()"
   ]
  },
  {
   "cell_type": "markdown",
   "metadata": {
    "id": "h2JWrYffMw2F"
   },
   "source": [
    "## Data preprocessing for pipeline model"
   ]
  },
  {
   "cell_type": "code",
   "execution_count": 79,
   "metadata": {
    "colab": {
     "base_uri": "https://localhost:8080/"
    },
    "id": "u5m7vnVAYPPc",
    "outputId": "1c59f26f-3d96-416a-b0a5-357360614685"
   },
   "outputs": [
    {
     "data": {
      "text/plain": [
       "327"
      ]
     },
     "execution_count": 79,
     "metadata": {},
     "output_type": "execute_result"
    }
   ],
   "source": [
    "# Because null value of Cabin column is so much, we will remove it from model training\n",
    "public_data['Cabin'].isnull().sum()"
   ]
  },
  {
   "cell_type": "code",
   "execution_count": 80,
   "metadata": {
    "id": "OeFlCFICAs3Z"
   },
   "outputs": [],
   "source": [
    "# Creation of four groups\n",
    "train['Nmember'] = pd.cut(train.Nmember, [0,1,4,7,11], labels=['Solo', 'Small', 'Big', 'Very big'])\n",
    "public_data['Nmember'] = pd.cut(public_data.Nmember, [0,1,4,7,11], labels=['Solo', 'Small', 'Big', 'Very big'])"
   ]
  },
  {
   "cell_type": "code",
   "execution_count": 81,
   "metadata": {
    "id": "lwjwa8qxdm_f"
   },
   "outputs": [],
   "source": [
    "train['Title'] = train['Name'].apply(lambda x: x.split(',')[1].split('.')[0].strip())\n",
    "\n",
    "public_data['Title'] = public_data['Name'].apply(lambda x: x.split(',')[1].split('.')[0].strip())"
   ]
  },
  {
   "cell_type": "code",
   "execution_count": 82,
   "metadata": {
    "id": "Ta_2EM5uc_Fs"
   },
   "outputs": [],
   "source": [
    "train['Title'].replace(['Mme', 'Ms', 'Lady', 'Mlle', 'the Countess', 'Dona'], 'Miss', inplace=True)\n",
    "public_data['Title'].replace(['Mme', 'Ms', 'Lady', 'Mlle', 'the Countess', 'Dona'], 'Miss', inplace=True)\n",
    "\n",
    "train['Title'].replace(['Major', 'Col', 'Capt', 'Don', 'Sir', 'Jonkheer'], 'Mr', inplace=True)\n",
    "public_data['Title'].replace(['Major', 'Col', 'Capt', 'Don', 'Sir', 'Jonkheer'], 'Mr', inplace=True)"
   ]
  },
  {
   "cell_type": "code",
   "execution_count": 83,
   "metadata": {
    "colab": {
     "base_uri": "https://localhost:8080/"
    },
    "id": "Zdy5VzqjMFDh",
    "outputId": "5c7cecfc-7f3a-4dc9-a83e-36e7c5d17170"
   },
   "outputs": [
    {
     "data": {
      "text/plain": [
       "0        7.8292\n",
       "1        7.0000\n",
       "2        9.6875\n",
       "3        8.6625\n",
       "4       12.2875\n",
       "         ...   \n",
       "413      8.0500\n",
       "414    108.9000\n",
       "415      7.2500\n",
       "416      8.0500\n",
       "417     22.3583\n",
       "Name: Fare, Length: 418, dtype: float64"
      ]
     },
     "execution_count": 83,
     "metadata": {},
     "output_type": "execute_result"
    }
   ],
   "source": [
    "train = train.apply(remove_zero_fares, axis=1)\n",
    "train['Fare'].fillna(value=train['Fare'].median())\n",
    "\n",
    "public_data = public_data.apply(remove_zero_fares, axis=1)\n",
    "public_data['Fare'].fillna(value=public_data['Fare'].median())"
   ]
  },
  {
   "cell_type": "code",
   "execution_count": 84,
   "metadata": {
    "id": "JwrCD9OgMVlH"
   },
   "outputs": [],
   "source": [
    "train['Ticket_lett'] = train.Ticket.apply(lambda x: x[:2])\n",
    "\n",
    "public_data['Ticket_lett'] = public_data.Ticket.apply(lambda x: x[:2])"
   ]
  },
  {
   "cell_type": "code",
   "execution_count": 85,
   "metadata": {
    "id": "xvaWpI42M3FD"
   },
   "outputs": [],
   "source": [
    "# train['Ticket_len'] = train.apply(ticket_len_cat, axis=1)\n",
    "# public_data['Ticket_len'] = public_data.apply(ticket_len_cat, axis=1)"
   ]
  },
  {
   "cell_type": "code",
   "execution_count": 86,
   "metadata": {
    "id": "UVdBFs3tMTfm"
   },
   "outputs": [],
   "source": [
    "# Create group for fare ticket\n",
    "# train['FareCat'] = pd.qcut(train['Fare'], 4, labels = [ 0, 1, 2, 3])\n",
    "# public_data['FareCat'] = pd.qcut(public_data['Fare'], 4, labels = [ 0, 1, 2, 3])"
   ]
  },
  {
   "cell_type": "code",
   "execution_count": 87,
   "metadata": {
    "id": "1pG0wAbrMTkB"
   },
   "outputs": [],
   "source": [
    "# train['FareSex'] = train.apply(fare_sex, axis=1)\n",
    "# public_data['FareSex'] = public_data.apply(fare_sex, axis=1) "
   ]
  },
  {
   "cell_type": "code",
   "execution_count": 88,
   "metadata": {
    "id": "1kv1WadiMTy7"
   },
   "outputs": [],
   "source": [
    "# train['AgeSex'] = train.apply(age_sex, axis=1)\n",
    "# public_data['AgeSex'] = public_data.apply(age_sex, axis=1)"
   ]
  },
  {
   "cell_type": "code",
   "execution_count": 89,
   "metadata": {
    "colab": {
     "base_uri": "https://localhost:8080/",
     "height": 204
    },
    "id": "H5t1vKd70sig",
    "outputId": "6d407592-c642-4223-e347-3be8376be496"
   },
   "outputs": [
    {
     "data": {
      "text/html": [
       "<div>\n",
       "<style scoped>\n",
       "    .dataframe tbody tr th:only-of-type {\n",
       "        vertical-align: middle;\n",
       "    }\n",
       "\n",
       "    .dataframe tbody tr th {\n",
       "        vertical-align: top;\n",
       "    }\n",
       "\n",
       "    .dataframe thead th {\n",
       "        text-align: right;\n",
       "    }\n",
       "</style>\n",
       "<table border=\"1\" class=\"dataframe\">\n",
       "  <thead>\n",
       "    <tr style=\"text-align: right;\">\n",
       "      <th></th>\n",
       "      <th>Pclass</th>\n",
       "      <th>Fare</th>\n",
       "      <th>Title</th>\n",
       "      <th>Embarked</th>\n",
       "      <th>Nmember</th>\n",
       "      <th>Ticket_len</th>\n",
       "      <th>Ticket_lett</th>\n",
       "    </tr>\n",
       "  </thead>\n",
       "  <tbody>\n",
       "    <tr>\n",
       "      <th>0</th>\n",
       "      <td>3</td>\n",
       "      <td>7.2500</td>\n",
       "      <td>Mr</td>\n",
       "      <td>S</td>\n",
       "      <td>Small</td>\n",
       "      <td>9</td>\n",
       "      <td>A/</td>\n",
       "    </tr>\n",
       "    <tr>\n",
       "      <th>1</th>\n",
       "      <td>1</td>\n",
       "      <td>71.2833</td>\n",
       "      <td>Mrs</td>\n",
       "      <td>C</td>\n",
       "      <td>Small</td>\n",
       "      <td>8</td>\n",
       "      <td>PC</td>\n",
       "    </tr>\n",
       "    <tr>\n",
       "      <th>2</th>\n",
       "      <td>3</td>\n",
       "      <td>7.9250</td>\n",
       "      <td>Miss</td>\n",
       "      <td>S</td>\n",
       "      <td>Solo</td>\n",
       "      <td>16</td>\n",
       "      <td>ST</td>\n",
       "    </tr>\n",
       "    <tr>\n",
       "      <th>3</th>\n",
       "      <td>1</td>\n",
       "      <td>53.1000</td>\n",
       "      <td>Mrs</td>\n",
       "      <td>S</td>\n",
       "      <td>Small</td>\n",
       "      <td>6</td>\n",
       "      <td>11</td>\n",
       "    </tr>\n",
       "    <tr>\n",
       "      <th>4</th>\n",
       "      <td>3</td>\n",
       "      <td>8.0500</td>\n",
       "      <td>Mr</td>\n",
       "      <td>S</td>\n",
       "      <td>Solo</td>\n",
       "      <td>6</td>\n",
       "      <td>37</td>\n",
       "    </tr>\n",
       "  </tbody>\n",
       "</table>\n",
       "</div>"
      ],
      "text/plain": [
       "   Pclass     Fare Title Embarked Nmember  Ticket_len Ticket_lett\n",
       "0       3   7.2500    Mr        S   Small           9          A/\n",
       "1       1  71.2833   Mrs        C   Small           8          PC\n",
       "2       3   7.9250  Miss        S    Solo          16          ST\n",
       "3       1  53.1000   Mrs        S   Small           6          11\n",
       "4       3   8.0500    Mr        S    Solo           6          37"
      ]
     },
     "execution_count": 89,
     "metadata": {},
     "output_type": "execute_result"
    }
   ],
   "source": [
    "y_train = train['Survived']\n",
    "features = ['Pclass', 'Fare', 'Title', 'Embarked', 'Nmember', 'Ticket_len', 'Ticket_lett']\n",
    "X_train = train[features]\n",
    "X_train.head()"
   ]
  },
  {
   "cell_type": "code",
   "execution_count": 90,
   "metadata": {
    "colab": {
     "base_uri": "https://localhost:8080/"
    },
    "id": "oqyZsZH8zBej",
    "outputId": "31772d08-6902-44f3-90d1-b2a6877034f1"
   },
   "outputs": [
    {
     "name": "stdout",
     "output_type": "stream",
     "text": [
      "Cross validation score: 0.826\n"
     ]
    }
   ],
   "source": [
    "from sklearn.impute import SimpleImputer\n",
    "from sklearn.preprocessing import OneHotEncoder\n",
    "from sklearn.compose import ColumnTransformer\n",
    "from sklearn.pipeline import Pipeline\n",
    "from sklearn.ensemble import RandomForestClassifier\n",
    "from sklearn.model_selection import cross_val_score\n",
    "\n",
    "numerical_cols = ['Fare']\n",
    "categorical_cols = ['Pclass', 'Title', 'Embarked', 'Nmember', 'Ticket_len', 'Ticket_lett']\n",
    "\n",
    "# Preprocessing for numerical data\n",
    "numerical_transformer = SimpleImputer(strategy='median')\n",
    "\n",
    "# Preprocessing for categorical data\n",
    "categorical_transformer = Pipeline(steps=[\n",
    "    ('imputer', SimpleImputer(strategy='most_frequent')),\n",
    "    ('onehot', OneHotEncoder(handle_unknown='ignore'))\n",
    "])\n",
    "\n",
    "# Bundle preprocessing for numerical and categorical data\n",
    "preprocessor = ColumnTransformer(\n",
    "    transformers=[\n",
    "        ('num', numerical_transformer, numerical_cols),\n",
    "        ('cat', categorical_transformer, categorical_cols)\n",
    "    ])\n",
    "\n",
    "# Bundle preprocessing and modeling code \n",
    "titanic_pipeline = Pipeline(steps=[\n",
    "    ('preprocessor', preprocessor),\n",
    "    ('model', RandomForestClassifier(random_state=0, n_estimators=500, max_depth=5))\n",
    "])\n",
    "\n",
    "# Preprocessing of training data, fit model \n",
    "titanic_pipeline.fit(X_train,y_train)\n",
    "\n",
    "print('Cross validation score: {:.3f}'.format(cross_val_score(titanic_pipeline, X_train, y_train, cv=10).mean()))"
   ]
  },
  {
   "cell_type": "code",
   "execution_count": 91,
   "metadata": {
    "colab": {
     "base_uri": "https://localhost:8080/",
     "height": 204
    },
    "id": "u-Xd6Kf77Xg4",
    "outputId": "e8c60dd9-f997-4f7a-d535-6b5fcc1233bb"
   },
   "outputs": [
    {
     "data": {
      "text/html": [
       "<div>\n",
       "<style scoped>\n",
       "    .dataframe tbody tr th:only-of-type {\n",
       "        vertical-align: middle;\n",
       "    }\n",
       "\n",
       "    .dataframe tbody tr th {\n",
       "        vertical-align: top;\n",
       "    }\n",
       "\n",
       "    .dataframe thead th {\n",
       "        text-align: right;\n",
       "    }\n",
       "</style>\n",
       "<table border=\"1\" class=\"dataframe\">\n",
       "  <thead>\n",
       "    <tr style=\"text-align: right;\">\n",
       "      <th></th>\n",
       "      <th>Pclass</th>\n",
       "      <th>Fare</th>\n",
       "      <th>Title</th>\n",
       "      <th>Embarked</th>\n",
       "      <th>Nmember</th>\n",
       "      <th>Ticket_len</th>\n",
       "      <th>Ticket_lett</th>\n",
       "    </tr>\n",
       "  </thead>\n",
       "  <tbody>\n",
       "    <tr>\n",
       "      <th>0</th>\n",
       "      <td>3</td>\n",
       "      <td>7.8292</td>\n",
       "      <td>Mr</td>\n",
       "      <td>Q</td>\n",
       "      <td>Solo</td>\n",
       "      <td>6</td>\n",
       "      <td>33</td>\n",
       "    </tr>\n",
       "    <tr>\n",
       "      <th>1</th>\n",
       "      <td>3</td>\n",
       "      <td>7.0000</td>\n",
       "      <td>Mrs</td>\n",
       "      <td>S</td>\n",
       "      <td>Small</td>\n",
       "      <td>6</td>\n",
       "      <td>36</td>\n",
       "    </tr>\n",
       "    <tr>\n",
       "      <th>2</th>\n",
       "      <td>2</td>\n",
       "      <td>9.6875</td>\n",
       "      <td>Mr</td>\n",
       "      <td>Q</td>\n",
       "      <td>Solo</td>\n",
       "      <td>6</td>\n",
       "      <td>24</td>\n",
       "    </tr>\n",
       "    <tr>\n",
       "      <th>3</th>\n",
       "      <td>3</td>\n",
       "      <td>8.6625</td>\n",
       "      <td>Mr</td>\n",
       "      <td>S</td>\n",
       "      <td>Solo</td>\n",
       "      <td>6</td>\n",
       "      <td>31</td>\n",
       "    </tr>\n",
       "    <tr>\n",
       "      <th>4</th>\n",
       "      <td>3</td>\n",
       "      <td>12.2875</td>\n",
       "      <td>Mrs</td>\n",
       "      <td>S</td>\n",
       "      <td>Small</td>\n",
       "      <td>7</td>\n",
       "      <td>31</td>\n",
       "    </tr>\n",
       "  </tbody>\n",
       "</table>\n",
       "</div>"
      ],
      "text/plain": [
       "   Pclass     Fare Title Embarked Nmember  Ticket_len Ticket_lett\n",
       "0       3   7.8292    Mr        Q    Solo           6          33\n",
       "1       3   7.0000   Mrs        S   Small           6          36\n",
       "2       2   9.6875    Mr        Q    Solo           6          24\n",
       "3       3   8.6625    Mr        S    Solo           6          31\n",
       "4       3  12.2875   Mrs        S   Small           7          31"
      ]
     },
     "execution_count": 91,
     "metadata": {},
     "output_type": "execute_result"
    }
   ],
   "source": [
    "X_test = public_data[features]\n",
    "X_test.head()"
   ]
  },
  {
   "cell_type": "code",
   "execution_count": 92,
   "metadata": {
    "id": "ueu1qW837jZS"
   },
   "outputs": [],
   "source": [
    "# Preprocessing of test data, get predictions\n",
    "predictions = titanic_pipeline.predict(X_test)"
   ]
  },
  {
   "cell_type": "code",
   "execution_count": 93,
   "metadata": {
    "id": "_2bulXUq7nm_"
   },
   "outputs": [],
   "source": [
    "submission = pd.DataFrame({\n",
    "        \"PassengerId\": PassengerId,\n",
    "        \"Survived\": predictions\n",
    "    })\n",
    "\n",
    "submission.to_csv('submission.csv', index=False)"
   ]
  },
  {
   "cell_type": "markdown",
   "metadata": {
    "id": "gAWNhOCMJBGC"
   },
   "source": [
    "# Conclusion\n",
    "  Cabin and Sex columns are not valuable for model although illustrating insight is very good. Over-reliance on these two attributes will cause the model score to decrease. So next time I will redo this predictive model in a different way. Let's look forward to it.\n",
    "\n",
    "Note: This article has references and improvements from other notebooks on Kaggle.\n",
    "\n",
    "## Thank you!!"
   ]
  }
 ],
 "metadata": {
  "colab": {
   "collapsed_sections": [],
   "name": "Titanic_Competition.ipynb",
   "provenance": []
  },
  "kernelspec": {
   "display_name": "Python 3",
   "language": "python",
   "name": "python3"
  },
  "language_info": {
   "codemirror_mode": {
    "name": "ipython",
    "version": 3
   },
   "file_extension": ".py",
   "mimetype": "text/x-python",
   "name": "python",
   "nbconvert_exporter": "python",
   "pygments_lexer": "ipython3",
   "version": "3.8.10"
  }
 },
 "nbformat": 4,
 "nbformat_minor": 1
}
